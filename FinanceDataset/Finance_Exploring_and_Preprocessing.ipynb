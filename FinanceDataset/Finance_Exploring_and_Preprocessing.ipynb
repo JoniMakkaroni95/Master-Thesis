{
 "cells": [
  {
   "cell_type": "markdown",
   "id": "82290622",
   "metadata": {},
   "source": [
    "# Finanz-Ticketdaten erkunden und vorverarbeiten"
   ]
  },
  {
   "cell_type": "markdown",
   "id": "283905c5",
   "metadata": {},
   "source": [
    "### Benötigte Pakete importieren und Einstellungen setzen"
   ]
  },
  {
   "cell_type": "code",
   "execution_count": 1,
   "id": "0952a52d",
   "metadata": {},
   "outputs": [],
   "source": [
    "import pandas as pd\n",
    "import numpy as np\n",
    "import matplotlib.pyplot as plt\n",
    "%matplotlib inline\n",
    "\n",
    "import warnings\n",
    "warnings.simplefilter(action='ignore', category=FutureWarning)\n",
    "\n",
    "import json\n",
    "import re\n",
    "import string\n",
    "import spacy\n",
    "\n",
    "from nltk.corpus import stopwords\n",
    "from langdetect import detect\n",
    "from wordcloud import WordCloud"
   ]
  },
  {
   "cell_type": "code",
   "execution_count": 2,
   "id": "63945e67-0ae5-4420-9658-8451a8601247",
   "metadata": {},
   "outputs": [],
   "source": [
    "plt.rcParams['figure.dpi'] = 300\n",
    "plt.rcParams['savefig.dpi'] = 300"
   ]
  },
  {
   "cell_type": "markdown",
   "id": "c3540760",
   "metadata": {},
   "source": [
    "### Ticketdaten einlesen und Spaltenbezeichnungen anpassen"
   ]
  },
  {
   "cell_type": "code",
   "execution_count": 3,
   "id": "d54202d9",
   "metadata": {},
   "outputs": [
    {
     "data": {
      "text/html": [
       "<div>\n",
       "<style scoped>\n",
       "    .dataframe tbody tr th:only-of-type {\n",
       "        vertical-align: middle;\n",
       "    }\n",
       "\n",
       "    .dataframe tbody tr th {\n",
       "        vertical-align: top;\n",
       "    }\n",
       "\n",
       "    .dataframe thead th {\n",
       "        text-align: right;\n",
       "    }\n",
       "</style>\n",
       "<table border=\"1\" class=\"dataframe\">\n",
       "  <thead>\n",
       "    <tr style=\"text-align: right;\">\n",
       "      <th></th>\n",
       "      <th>Unnamed: 0</th>\n",
       "      <th>complaint_what_happened</th>\n",
       "      <th>lemmatized_complaints</th>\n",
       "      <th>complaint_POS_removed</th>\n",
       "      <th>length</th>\n",
       "      <th>Complaint_clean</th>\n",
       "      <th>Topic</th>\n",
       "    </tr>\n",
       "  </thead>\n",
       "  <tbody>\n",
       "    <tr>\n",
       "      <th>0</th>\n",
       "      <td>0</td>\n",
       "      <td>Good morning my name is XXXX XXXX and I apprec...</td>\n",
       "      <td>good morning name xxxx xxxx appreciate could h...</td>\n",
       "      <td>morning name appreciate chase bank cardmember ...</td>\n",
       "      <td>175</td>\n",
       "      <td>morning name appreciate chase bank cardmember ...</td>\n",
       "      <td>0</td>\n",
       "    </tr>\n",
       "    <tr>\n",
       "      <th>1</th>\n",
       "      <td>1</td>\n",
       "      <td>I upgraded my XXXX XXXX card in XX/XX/2018 and...</td>\n",
       "      <td>upgraded xxxx xxxx card xxxx tell agent upgrad...</td>\n",
       "      <td>xxxx card tell agent date information order up...</td>\n",
       "      <td>117</td>\n",
       "      <td>card tell agent date information order upgrad...</td>\n",
       "      <td>1</td>\n",
       "    </tr>\n",
       "    <tr>\n",
       "      <th>2</th>\n",
       "      <td>2</td>\n",
       "      <td>Chase Card was reported on XX/XX/2019. However...</td>\n",
       "      <td>chase card report xxxx however fraudulent appl...</td>\n",
       "      <td>card report application submit identity consen...</td>\n",
       "      <td>81</td>\n",
       "      <td>card report application submit identity consen...</td>\n",
       "      <td>1</td>\n",
       "    </tr>\n",
       "    <tr>\n",
       "      <th>3</th>\n",
       "      <td>3</td>\n",
       "      <td>On XX/XX/2018, while trying to book a XXXX  XX...</td>\n",
       "      <td>xxxx try book xxxx xxxx ticket come across off...</td>\n",
       "      <td>try book ticket come offer apply ticket card i...</td>\n",
       "      <td>429</td>\n",
       "      <td>try book ticket come offer apply ticket card i...</td>\n",
       "      <td>1</td>\n",
       "    </tr>\n",
       "    <tr>\n",
       "      <th>4</th>\n",
       "      <td>4</td>\n",
       "      <td>my grand son give me check for {$1600.00} i de...</td>\n",
       "      <td>grand son give check deposit chase account fun...</td>\n",
       "      <td>son check deposit chase account fund bank acco...</td>\n",
       "      <td>163</td>\n",
       "      <td>son check deposit chase account fund bank acco...</td>\n",
       "      <td>0</td>\n",
       "    </tr>\n",
       "    <tr>\n",
       "      <th>...</th>\n",
       "      <td>...</td>\n",
       "      <td>...</td>\n",
       "      <td>...</td>\n",
       "      <td>...</td>\n",
       "      <td>...</td>\n",
       "      <td>...</td>\n",
       "      <td>...</td>\n",
       "    </tr>\n",
       "    <tr>\n",
       "      <th>21067</th>\n",
       "      <td>21067</td>\n",
       "      <td>After being a Chase Card customer for well ove...</td>\n",
       "      <td>chase card customer well decade offer multiple...</td>\n",
       "      <td>chase card customer decade offer solicitation ...</td>\n",
       "      <td>232</td>\n",
       "      <td>chase card customer decade offer solicitation ...</td>\n",
       "      <td>1</td>\n",
       "    </tr>\n",
       "    <tr>\n",
       "      <th>21068</th>\n",
       "      <td>21068</td>\n",
       "      <td>On Wednesday, XX/XX/XXXX I called Chas, my XXX...</td>\n",
       "      <td>wednesday xxxxxxxx call chas xxxx xxxx visa cr...</td>\n",
       "      <td>call chas xxxx credit card provider claim purc...</td>\n",
       "      <td>702</td>\n",
       "      <td>call chas  credit card provider claim purchase...</td>\n",
       "      <td>3</td>\n",
       "    </tr>\n",
       "    <tr>\n",
       "      <th>21069</th>\n",
       "      <td>21069</td>\n",
       "      <td>I am not familiar with XXXX pay and did not un...</td>\n",
       "      <td>familiar xxxx pay understand great risk provid...</td>\n",
       "      <td>pay risk consumer chase bank chase year trust ...</td>\n",
       "      <td>695</td>\n",
       "      <td>pay risk consumer chase bank chase year trust ...</td>\n",
       "      <td>3</td>\n",
       "    </tr>\n",
       "    <tr>\n",
       "      <th>21070</th>\n",
       "      <td>21070</td>\n",
       "      <td>I have had flawless credit for 30 yrs. I've ha...</td>\n",
       "      <td>flawless credit yrs ive chase credit card chas...</td>\n",
       "      <td>flawless credit chase credit card chase freedo...</td>\n",
       "      <td>563</td>\n",
       "      <td>flawless credit chase credit card chase freedo...</td>\n",
       "      <td>4</td>\n",
       "    </tr>\n",
       "    <tr>\n",
       "      <th>21071</th>\n",
       "      <td>21071</td>\n",
       "      <td>Roughly 10+ years ago I closed out my accounts...</td>\n",
       "      <td>roughly year ago close account jp morgan chase...</td>\n",
       "      <td>year account jp bank order line credit pay acc...</td>\n",
       "      <td>252</td>\n",
       "      <td>year account jp bank order line credit pay acc...</td>\n",
       "      <td>4</td>\n",
       "    </tr>\n",
       "  </tbody>\n",
       "</table>\n",
       "<p>21072 rows × 7 columns</p>\n",
       "</div>"
      ],
      "text/plain": [
       "       Unnamed: 0                            complaint_what_happened  \\\n",
       "0               0  Good morning my name is XXXX XXXX and I apprec...   \n",
       "1               1  I upgraded my XXXX XXXX card in XX/XX/2018 and...   \n",
       "2               2  Chase Card was reported on XX/XX/2019. However...   \n",
       "3               3  On XX/XX/2018, while trying to book a XXXX  XX...   \n",
       "4               4  my grand son give me check for {$1600.00} i de...   \n",
       "...           ...                                                ...   \n",
       "21067       21067  After being a Chase Card customer for well ove...   \n",
       "21068       21068  On Wednesday, XX/XX/XXXX I called Chas, my XXX...   \n",
       "21069       21069  I am not familiar with XXXX pay and did not un...   \n",
       "21070       21070  I have had flawless credit for 30 yrs. I've ha...   \n",
       "21071       21071  Roughly 10+ years ago I closed out my accounts...   \n",
       "\n",
       "                                   lemmatized_complaints  \\\n",
       "0      good morning name xxxx xxxx appreciate could h...   \n",
       "1      upgraded xxxx xxxx card xxxx tell agent upgrad...   \n",
       "2      chase card report xxxx however fraudulent appl...   \n",
       "3      xxxx try book xxxx xxxx ticket come across off...   \n",
       "4      grand son give check deposit chase account fun...   \n",
       "...                                                  ...   \n",
       "21067  chase card customer well decade offer multiple...   \n",
       "21068  wednesday xxxxxxxx call chas xxxx xxxx visa cr...   \n",
       "21069  familiar xxxx pay understand great risk provid...   \n",
       "21070  flawless credit yrs ive chase credit card chas...   \n",
       "21071  roughly year ago close account jp morgan chase...   \n",
       "\n",
       "                                   complaint_POS_removed  length  \\\n",
       "0      morning name appreciate chase bank cardmember ...     175   \n",
       "1      xxxx card tell agent date information order up...     117   \n",
       "2      card report application submit identity consen...      81   \n",
       "3      try book ticket come offer apply ticket card i...     429   \n",
       "4      son check deposit chase account fund bank acco...     163   \n",
       "...                                                  ...     ...   \n",
       "21067  chase card customer decade offer solicitation ...     232   \n",
       "21068  call chas xxxx credit card provider claim purc...     702   \n",
       "21069  pay risk consumer chase bank chase year trust ...     695   \n",
       "21070  flawless credit chase credit card chase freedo...     563   \n",
       "21071  year account jp bank order line credit pay acc...     252   \n",
       "\n",
       "                                         Complaint_clean  Topic  \n",
       "0      morning name appreciate chase bank cardmember ...      0  \n",
       "1       card tell agent date information order upgrad...      1  \n",
       "2      card report application submit identity consen...      1  \n",
       "3      try book ticket come offer apply ticket card i...      1  \n",
       "4      son check deposit chase account fund bank acco...      0  \n",
       "...                                                  ...    ...  \n",
       "21067  chase card customer decade offer solicitation ...      1  \n",
       "21068  call chas  credit card provider claim purchase...      3  \n",
       "21069  pay risk consumer chase bank chase year trust ...      3  \n",
       "21070  flawless credit chase credit card chase freedo...      4  \n",
       "21071  year account jp bank order line credit pay acc...      4  \n",
       "\n",
       "[21072 rows x 7 columns]"
      ]
     },
     "execution_count": 3,
     "metadata": {},
     "output_type": "execute_result"
    }
   ],
   "source": [
    "finance_ticket_df = pd.read_excel('finance_tickets_cleaned_with_topics_kaggle.xlsx')\n",
    "finance_ticket_df"
   ]
  },
  {
   "cell_type": "code",
   "execution_count": 4,
   "id": "3e40ed22-9063-4e2f-9aca-1a9df87efd1d",
   "metadata": {},
   "outputs": [
    {
     "data": {
      "text/html": [
       "<div>\n",
       "<style scoped>\n",
       "    .dataframe tbody tr th:only-of-type {\n",
       "        vertical-align: middle;\n",
       "    }\n",
       "\n",
       "    .dataframe tbody tr th {\n",
       "        vertical-align: top;\n",
       "    }\n",
       "\n",
       "    .dataframe thead th {\n",
       "        text-align: right;\n",
       "    }\n",
       "</style>\n",
       "<table border=\"1\" class=\"dataframe\">\n",
       "  <thead>\n",
       "    <tr style=\"text-align: right;\">\n",
       "      <th></th>\n",
       "      <th>Meldung</th>\n",
       "      <th>Ticketart</th>\n",
       "    </tr>\n",
       "  </thead>\n",
       "  <tbody>\n",
       "    <tr>\n",
       "      <th>0</th>\n",
       "      <td>Good morning my name is XXXX XXXX and I apprec...</td>\n",
       "      <td>0</td>\n",
       "    </tr>\n",
       "    <tr>\n",
       "      <th>1</th>\n",
       "      <td>I upgraded my XXXX XXXX card in XX/XX/2018 and...</td>\n",
       "      <td>1</td>\n",
       "    </tr>\n",
       "    <tr>\n",
       "      <th>2</th>\n",
       "      <td>Chase Card was reported on XX/XX/2019. However...</td>\n",
       "      <td>1</td>\n",
       "    </tr>\n",
       "    <tr>\n",
       "      <th>3</th>\n",
       "      <td>On XX/XX/2018, while trying to book a XXXX  XX...</td>\n",
       "      <td>1</td>\n",
       "    </tr>\n",
       "    <tr>\n",
       "      <th>4</th>\n",
       "      <td>my grand son give me check for {$1600.00} i de...</td>\n",
       "      <td>0</td>\n",
       "    </tr>\n",
       "    <tr>\n",
       "      <th>...</th>\n",
       "      <td>...</td>\n",
       "      <td>...</td>\n",
       "    </tr>\n",
       "    <tr>\n",
       "      <th>21067</th>\n",
       "      <td>After being a Chase Card customer for well ove...</td>\n",
       "      <td>1</td>\n",
       "    </tr>\n",
       "    <tr>\n",
       "      <th>21068</th>\n",
       "      <td>On Wednesday, XX/XX/XXXX I called Chas, my XXX...</td>\n",
       "      <td>3</td>\n",
       "    </tr>\n",
       "    <tr>\n",
       "      <th>21069</th>\n",
       "      <td>I am not familiar with XXXX pay and did not un...</td>\n",
       "      <td>3</td>\n",
       "    </tr>\n",
       "    <tr>\n",
       "      <th>21070</th>\n",
       "      <td>I have had flawless credit for 30 yrs. I've ha...</td>\n",
       "      <td>4</td>\n",
       "    </tr>\n",
       "    <tr>\n",
       "      <th>21071</th>\n",
       "      <td>Roughly 10+ years ago I closed out my accounts...</td>\n",
       "      <td>4</td>\n",
       "    </tr>\n",
       "  </tbody>\n",
       "</table>\n",
       "<p>21072 rows × 2 columns</p>\n",
       "</div>"
      ],
      "text/plain": [
       "                                                 Meldung  Ticketart\n",
       "0      Good morning my name is XXXX XXXX and I apprec...          0\n",
       "1      I upgraded my XXXX XXXX card in XX/XX/2018 and...          1\n",
       "2      Chase Card was reported on XX/XX/2019. However...          1\n",
       "3      On XX/XX/2018, while trying to book a XXXX  XX...          1\n",
       "4      my grand son give me check for {$1600.00} i de...          0\n",
       "...                                                  ...        ...\n",
       "21067  After being a Chase Card customer for well ove...          1\n",
       "21068  On Wednesday, XX/XX/XXXX I called Chas, my XXX...          3\n",
       "21069  I am not familiar with XXXX pay and did not un...          3\n",
       "21070  I have had flawless credit for 30 yrs. I've ha...          4\n",
       "21071  Roughly 10+ years ago I closed out my accounts...          4\n",
       "\n",
       "[21072 rows x 2 columns]"
      ]
     },
     "execution_count": 4,
     "metadata": {},
     "output_type": "execute_result"
    }
   ],
   "source": [
    "ticket_df = finance_ticket_df[['complaint_what_happened', 'Topic']].copy()\n",
    "ticket_df.rename(columns={'complaint_what_happened': 'Meldung', 'Topic': 'Ticketart'}, inplace=True)  \n",
    "ticket_df"
   ]
  },
  {
   "cell_type": "markdown",
   "id": "8dd207ad",
   "metadata": {},
   "source": [
    "### Allgemeine Informationen über das DataFrame ansehen"
   ]
  },
  {
   "cell_type": "code",
   "execution_count": 5,
   "id": "0e95623f",
   "metadata": {},
   "outputs": [
    {
     "name": "stdout",
     "output_type": "stream",
     "text": [
      "<class 'pandas.core.frame.DataFrame'>\n",
      "RangeIndex: 21072 entries, 0 to 21071\n",
      "Data columns (total 2 columns):\n",
      " #   Column     Non-Null Count  Dtype \n",
      "---  ------     --------------  ----- \n",
      " 0   Meldung    21072 non-null  object\n",
      " 1   Ticketart  21072 non-null  int64 \n",
      "dtypes: int64(1), object(1)\n",
      "memory usage: 329.4+ KB\n"
     ]
    }
   ],
   "source": [
    "ticket_df.info()"
   ]
  },
  {
   "cell_type": "markdown",
   "id": "5f5da730",
   "metadata": {
    "tags": []
   },
   "source": [
    "### Alle leere Zeilen löschen"
   ]
  },
  {
   "cell_type": "code",
   "execution_count": 6,
   "id": "667a3a07",
   "metadata": {},
   "outputs": [],
   "source": [
    "ticket_df.Meldung.replace(r'', np.nan, regex=True, inplace=True)\n",
    "ticket_df = ticket_df[ticket_df.Meldung.notna()]"
   ]
  },
  {
   "cell_type": "code",
   "execution_count": 7,
   "id": "187f22ae",
   "metadata": {},
   "outputs": [
    {
     "name": "stdout",
     "output_type": "stream",
     "text": [
      "<class 'pandas.core.frame.DataFrame'>\n",
      "Int64Index: 21072 entries, 0 to 21071\n",
      "Data columns (total 2 columns):\n",
      " #   Column     Non-Null Count  Dtype \n",
      "---  ------     --------------  ----- \n",
      " 0   Meldung    21072 non-null  object\n",
      " 1   Ticketart  21072 non-null  int64 \n",
      "dtypes: int64(1), object(1)\n",
      "memory usage: 493.9+ KB\n"
     ]
    }
   ],
   "source": [
    "ticket_df.info()"
   ]
  },
  {
   "cell_type": "markdown",
   "id": "2bc0142c",
   "metadata": {},
   "source": [
    "### Funktion zur Textbereinigung definieren"
   ]
  },
  {
   "cell_type": "code",
   "execution_count": 8,
   "id": "ced4f861",
   "metadata": {},
   "outputs": [],
   "source": [
    "def clean_tickets(text):\n",
    "    \n",
    "    if text is None: # Text is None abfangen\n",
    "        return ''\n",
    "    \n",
    "    text = str(text)\n",
    "    \n",
    "    text = re.sub('_x000D_', '', text) # _x000D_ entfernen --- entsteht in Excel durch den ASCII-Code für Line Feed?\n",
    "    \n",
    "    text = re.sub('XXXX', '', text) # Anonymisierungen komplett entfernen\n",
    "    \n",
    "    text = re.sub('XX', '', text) # Anonymisierungen komplett entfernen\n",
    "    \n",
    "    text = re.sub('https?:\\/\\/\\S*', '', text) # URLs entfernen\n",
    "    \n",
    "    text = re.sub('\\d+', '', text) # Zahlen entfernen\n",
    "    \n",
    "    for c in string.punctuation:\n",
    "        text = text.replace(c, ' ') # Die Zeichen ---> !\"#$%&'()*+, -./:;<=>?@[\\]^_`{|}~ <--- entfernen\n",
    "    \n",
    "    text = re.sub('Ä', 'Ae', text) # Umlaute umwandeln  \n",
    "    text = re.sub('ä', 'ae', text)\n",
    "    text = re.sub('Ö', 'Oe', text)\n",
    "    text = re.sub('ö', 'oe', text)\n",
    "    text = re.sub('Ü', 'Ue', text)\n",
    "    text = re.sub('ü', 'ue', text)\n",
    "    text = re.sub('ß', 'ss', text)\n",
    "    \n",
    "    text = re.sub(' \\w ', ' ', text) # Alleinstehende Zeichen entfernen\n",
    "        \n",
    "    text = re.sub('\\n', ' ', text) # Zeilenumbrüche entfernen --- \\n, \\t, \\r sind Escape Character\n",
    "    \n",
    "    text = re.sub('\\r', ' ', text) # Carriage Returns entfernen\n",
    "    \n",
    "    text = re.sub('\\t', ' ', text) # Tabulatoren entfernen\n",
    "    \n",
    "    text = re.sub(' +', ' ', text).strip() # Whitespace entfernen\n",
    "    \n",
    "    text = text.encode('ascii', 'ignore').decode() # Text in ASCII umwandeln\n",
    "    \n",
    "    text = text.lower()\n",
    "\n",
    "    return text"
   ]
  },
  {
   "cell_type": "markdown",
   "id": "30f820aa",
   "metadata": {},
   "source": [
    "### Funktionen zur Stopp-Wort-Entfernung definieren"
   ]
  },
  {
   "cell_type": "code",
   "execution_count": 9,
   "id": "56a7999c",
   "metadata": {},
   "outputs": [],
   "source": [
    "english_stop_words = stopwords.words('english')\n",
    "\n",
    "def remove_stop_words(text):\n",
    "    tokens = text.split()\n",
    "    return ' '.join([t for t in tokens if not t in english_stop_words])"
   ]
  },
  {
   "cell_type": "markdown",
   "id": "d9be77a8-0902-4bf5-a156-db56dba2d207",
   "metadata": {},
   "source": [
    "### Funktion zur Lemmatisierung definieren"
   ]
  },
  {
   "cell_type": "code",
   "execution_count": 10,
   "id": "3560cc13-1fa7-4b98-b4f3-621640fbbb2c",
   "metadata": {},
   "outputs": [],
   "source": [
    "nlp = spacy.load('en_core_web_sm')"
   ]
  },
  {
   "cell_type": "code",
   "execution_count": 11,
   "id": "6e3802a1",
   "metadata": {},
   "outputs": [],
   "source": [
    "def lemmatize_text_spacy(text):\n",
    "    spacy_doc = nlp(text)\n",
    "    lemmatize_tokens = [token.lemma_ for token in spacy_doc] # token.text, token.pos_, token.dep_, token.lemma_\n",
    "    lemmatize_text = ' '.join(lemmatize_tokens)\n",
    "    return lemmatize_text"
   ]
  },
  {
   "cell_type": "markdown",
   "id": "3cd35854-1ed0-4869-9a17-476eb724d854",
   "metadata": {},
   "source": [
    "### Neu indizieren und Zwischeninformationen ansehen"
   ]
  },
  {
   "cell_type": "code",
   "execution_count": 12,
   "id": "0a4d8c09-23eb-4c57-8632-5c2d9f878258",
   "metadata": {},
   "outputs": [
    {
     "name": "stdout",
     "output_type": "stream",
     "text": [
      "<class 'pandas.core.frame.DataFrame'>\n",
      "RangeIndex: 21072 entries, 0 to 21071\n",
      "Data columns (total 2 columns):\n",
      " #   Column     Non-Null Count  Dtype \n",
      "---  ------     --------------  ----- \n",
      " 0   Meldung    21072 non-null  object\n",
      " 1   Ticketart  21072 non-null  int64 \n",
      "dtypes: int64(1), object(1)\n",
      "memory usage: 329.4+ KB\n"
     ]
    }
   ],
   "source": [
    "ticket_df.reset_index(drop=True, inplace=True)\n",
    "ticket_df.info()"
   ]
  },
  {
   "cell_type": "markdown",
   "id": "3a8cd1b2-0bc2-4ebf-962d-2af997cf4c32",
   "metadata": {},
   "source": [
    "### Meldung_cleaned, Meldung_BERT setzen"
   ]
  },
  {
   "cell_type": "code",
   "execution_count": 13,
   "id": "be888363-82c8-4af7-a5a7-77efb51dbfda",
   "metadata": {},
   "outputs": [],
   "source": [
    "ticket_df['Meldung_cleaned'] = ''\n",
    "ticket_df['Meldung_BERT'] = ''\n",
    "\n",
    "for index, row in ticket_df.iterrows():\n",
    "    try:\n",
    "        meldung = row['Meldung']\n",
    "        meldung_cleaned = clean_tickets(meldung)\n",
    "    except:\n",
    "        ticket_df.at[index, 'Meldung_cleaned'] = ''\n",
    "        ticket_df.at[index, 'Meldung_BERT'] = ''\n",
    "    else:\n",
    "        ticket_df.at[index, 'Meldung_cleaned'] = meldung_cleaned\n",
    "        ticket_df.at[index, 'Meldung_BERT'] = meldung_cleaned"
   ]
  },
  {
   "cell_type": "markdown",
   "id": "64bdcd4c-e227-420b-abba-805e68ffcc9a",
   "metadata": {},
   "source": [
    "### Ticketlängen setzen und Histogramm ausgeben"
   ]
  },
  {
   "cell_type": "code",
   "execution_count": 14,
   "id": "17688bd0-a610-46f9-a5e0-56c33c9848fe",
   "metadata": {},
   "outputs": [],
   "source": [
    "ticket_df['Länge'] = 0\n",
    "\n",
    "for index, row in ticket_df.iterrows():\n",
    "    try:\n",
    "        length = len(row['Meldung_cleaned'].split())\n",
    "    except:\n",
    "        ticket_df.at[index, 'Länge'] = 0\n",
    "    else:\n",
    "        ticket_df.at[index, 'Länge'] = length\n",
    "        \n",
    "ticket_df = ticket_df[ticket_df.Länge > 0]"
   ]
  },
  {
   "cell_type": "code",
   "execution_count": 15,
   "id": "f11472b9-f251-424e-a51a-9d961087c25e",
   "metadata": {},
   "outputs": [
    {
     "data": {
      "image/png": "[encoded data removed]",
      "text/plain": [
       "<Figure size 5400x1500 with 2 Axes>"
      ]
     },
     "metadata": {
      "needs_background": "light"
     },
     "output_type": "display_data"
    }
   ],
   "source": [
    "fig, (ax1, ax2) = plt.subplots(ncols=2, figsize=(18, 5))\n",
    "\n",
    "ax1.hist(ticket_df.Länge, bins=50)\n",
    "ax2.hist([l for l in ticket_df.Länge if (l > 4) and (l < 501)], bins=50)\n",
    "\n",
    "ax1.set_title('Verteilung Ticketlängen', fontweight='bold')\n",
    "ax1.set_xlabel('Ticketlänge', fontweight='bold')\n",
    "ax1.set_ylabel('Häufigkeit', fontweight='bold')\n",
    "\n",
    "ax2.set_title('Verteilung Ticketlängen mit über 5 und unter 500 Wörtern', fontweight='bold')\n",
    "ax2.set_xlabel('Ticketlänge', fontweight='bold')\n",
    "ax2.set_ylabel('Häufigkeit', fontweight='bold')\n",
    "\n",
    "fig.savefig('pictures/ticketlength_histo_finance.png', dpi=600)\n",
    "plt.show()"
   ]
  },
  {
   "cell_type": "markdown",
   "id": "483327f0-7c2b-4cf5-bbcd-e10f9f017412",
   "metadata": {},
   "source": [
    "### Statistische Werte ausgeben"
   ]
  },
  {
   "cell_type": "code",
   "execution_count": 16,
   "id": "a6725c7d-0842-4e96-bfeb-7a556d40e05d",
   "metadata": {},
   "outputs": [
    {
     "name": "stdout",
     "output_type": "stream",
     "text": [
      "Die minimale Anzahl an Wörtern beträgt: 2.0\n",
      "Die durchschnittliche Anzahl an Wörtnern beträgt: 220.14194191343964\n",
      "Die mediane Anzahl an Wörtern beträgt: 157.0\n",
      "Die maximale Anzahl an Wörtern beträgt: 4549.0\n"
     ]
    }
   ],
   "source": [
    "describe_df = ticket_df['Länge'].describe()\n",
    "print(f\"Die minimale Anzahl an Wörtern beträgt: {describe_df.loc['min']}\")\n",
    "print(f\"Die durchschnittliche Anzahl an Wörtnern beträgt: {describe_df.loc['mean']}\")\n",
    "print(f\"Die mediane Anzahl an Wörtern beträgt: {describe_df.loc['50%']}\")\n",
    "print(f\"Die maximale Anzahl an Wörtern beträgt: {describe_df.loc['max']}\")"
   ]
  },
  {
   "cell_type": "code",
   "execution_count": 17,
   "id": "3db82a15-3d0b-4468-9078-d7d5f098cfd3",
   "metadata": {},
   "outputs": [
    {
     "data": {
      "text/html": [
       "<div>\n",
       "<style scoped>\n",
       "    .dataframe tbody tr th:only-of-type {\n",
       "        vertical-align: middle;\n",
       "    }\n",
       "\n",
       "    .dataframe tbody tr th {\n",
       "        vertical-align: top;\n",
       "    }\n",
       "\n",
       "    .dataframe thead th {\n",
       "        text-align: right;\n",
       "    }\n",
       "</style>\n",
       "<table border=\"1\" class=\"dataframe\">\n",
       "  <thead>\n",
       "    <tr style=\"text-align: right;\">\n",
       "      <th></th>\n",
       "      <th>Meldung</th>\n",
       "      <th>Ticketart</th>\n",
       "      <th>Meldung_cleaned</th>\n",
       "      <th>Meldung_BERT</th>\n",
       "      <th>Länge</th>\n",
       "    </tr>\n",
       "  </thead>\n",
       "  <tbody>\n",
       "    <tr>\n",
       "      <th>0</th>\n",
       "      <td>Good morning my name is XXXX XXXX and I apprec...</td>\n",
       "      <td>0</td>\n",
       "      <td>good morning my name is and appreciate it if y...</td>\n",
       "      <td>good morning my name is and appreciate it if y...</td>\n",
       "      <td>75</td>\n",
       "    </tr>\n",
       "    <tr>\n",
       "      <th>1</th>\n",
       "      <td>I upgraded my XXXX XXXX card in XX/XX/2018 and...</td>\n",
       "      <td>1</td>\n",
       "      <td>i upgraded my card in and was told by the agen...</td>\n",
       "      <td>i upgraded my card in and was told by the agen...</td>\n",
       "      <td>56</td>\n",
       "    </tr>\n",
       "    <tr>\n",
       "      <th>2</th>\n",
       "      <td>Chase Card was reported on XX/XX/2019. However...</td>\n",
       "      <td>1</td>\n",
       "      <td>chase card was reported on however fraudulent ...</td>\n",
       "      <td>chase card was reported on however fraudulent ...</td>\n",
       "      <td>31</td>\n",
       "    </tr>\n",
       "    <tr>\n",
       "      <th>3</th>\n",
       "      <td>On XX/XX/2018, while trying to book a XXXX  XX...</td>\n",
       "      <td>1</td>\n",
       "      <td>on while trying to book ticket came across an ...</td>\n",
       "      <td>on while trying to book ticket came across an ...</td>\n",
       "      <td>240</td>\n",
       "    </tr>\n",
       "    <tr>\n",
       "      <th>4</th>\n",
       "      <td>my grand son give me check for {$1600.00} i de...</td>\n",
       "      <td>0</td>\n",
       "      <td>my grand son give me check for deposit it into...</td>\n",
       "      <td>my grand son give me check for deposit it into...</td>\n",
       "      <td>88</td>\n",
       "    </tr>\n",
       "    <tr>\n",
       "      <th>...</th>\n",
       "      <td>...</td>\n",
       "      <td>...</td>\n",
       "      <td>...</td>\n",
       "      <td>...</td>\n",
       "      <td>...</td>\n",
       "    </tr>\n",
       "    <tr>\n",
       "      <th>21067</th>\n",
       "      <td>After being a Chase Card customer for well ove...</td>\n",
       "      <td>1</td>\n",
       "      <td>after being chase card customer for well over ...</td>\n",
       "      <td>after being chase card customer for well over ...</td>\n",
       "      <td>115</td>\n",
       "    </tr>\n",
       "    <tr>\n",
       "      <th>21068</th>\n",
       "      <td>On Wednesday, XX/XX/XXXX I called Chas, my XXX...</td>\n",
       "      <td>3</td>\n",
       "      <td>on wednesday called chas my visa credit card p...</td>\n",
       "      <td>on wednesday called chas my visa credit card p...</td>\n",
       "      <td>344</td>\n",
       "    </tr>\n",
       "    <tr>\n",
       "      <th>21069</th>\n",
       "      <td>I am not familiar with XXXX pay and did not un...</td>\n",
       "      <td>3</td>\n",
       "      <td>i am not familiar with pay and did not underst...</td>\n",
       "      <td>i am not familiar with pay and did not underst...</td>\n",
       "      <td>385</td>\n",
       "    </tr>\n",
       "    <tr>\n",
       "      <th>21070</th>\n",
       "      <td>I have had flawless credit for 30 yrs. I've ha...</td>\n",
       "      <td>4</td>\n",
       "      <td>i have had flawless credit for yrs ve had chas...</td>\n",
       "      <td>i have had flawless credit for yrs ve had chas...</td>\n",
       "      <td>337</td>\n",
       "    </tr>\n",
       "    <tr>\n",
       "      <th>21071</th>\n",
       "      <td>Roughly 10+ years ago I closed out my accounts...</td>\n",
       "      <td>4</td>\n",
       "      <td>roughly years ago closed out my accounts with ...</td>\n",
       "      <td>roughly years ago closed out my accounts with ...</td>\n",
       "      <td>131</td>\n",
       "    </tr>\n",
       "  </tbody>\n",
       "</table>\n",
       "<p>19222 rows × 5 columns</p>\n",
       "</div>"
      ],
      "text/plain": [
       "                                                 Meldung  Ticketart  \\\n",
       "0      Good morning my name is XXXX XXXX and I apprec...          0   \n",
       "1      I upgraded my XXXX XXXX card in XX/XX/2018 and...          1   \n",
       "2      Chase Card was reported on XX/XX/2019. However...          1   \n",
       "3      On XX/XX/2018, while trying to book a XXXX  XX...          1   \n",
       "4      my grand son give me check for {$1600.00} i de...          0   \n",
       "...                                                  ...        ...   \n",
       "21067  After being a Chase Card customer for well ove...          1   \n",
       "21068  On Wednesday, XX/XX/XXXX I called Chas, my XXX...          3   \n",
       "21069  I am not familiar with XXXX pay and did not un...          3   \n",
       "21070  I have had flawless credit for 30 yrs. I've ha...          4   \n",
       "21071  Roughly 10+ years ago I closed out my accounts...          4   \n",
       "\n",
       "                                         Meldung_cleaned  \\\n",
       "0      good morning my name is and appreciate it if y...   \n",
       "1      i upgraded my card in and was told by the agen...   \n",
       "2      chase card was reported on however fraudulent ...   \n",
       "3      on while trying to book ticket came across an ...   \n",
       "4      my grand son give me check for deposit it into...   \n",
       "...                                                  ...   \n",
       "21067  after being chase card customer for well over ...   \n",
       "21068  on wednesday called chas my visa credit card p...   \n",
       "21069  i am not familiar with pay and did not underst...   \n",
       "21070  i have had flawless credit for yrs ve had chas...   \n",
       "21071  roughly years ago closed out my accounts with ...   \n",
       "\n",
       "                                            Meldung_BERT  Länge  \n",
       "0      good morning my name is and appreciate it if y...     75  \n",
       "1      i upgraded my card in and was told by the agen...     56  \n",
       "2      chase card was reported on however fraudulent ...     31  \n",
       "3      on while trying to book ticket came across an ...    240  \n",
       "4      my grand son give me check for deposit it into...     88  \n",
       "...                                                  ...    ...  \n",
       "21067  after being chase card customer for well over ...    115  \n",
       "21068  on wednesday called chas my visa credit card p...    344  \n",
       "21069  i am not familiar with pay and did not underst...    385  \n",
       "21070  i have had flawless credit for yrs ve had chas...    337  \n",
       "21071  roughly years ago closed out my accounts with ...    131  \n",
       "\n",
       "[19222 rows x 5 columns]"
      ]
     },
     "execution_count": 17,
     "metadata": {},
     "output_type": "execute_result"
    }
   ],
   "source": [
    "ticket_df = ticket_df[(ticket_df.Länge >= 5) & (ticket_df.Länge <= 500)]\n",
    "ticket_df"
   ]
  },
  {
   "cell_type": "markdown",
   "id": "989508cd-54f7-4489-b1d5-c04aa6e10056",
   "metadata": {},
   "source": [
    "### Vokabular vor Lemmatisierung zählen"
   ]
  },
  {
   "cell_type": "code",
   "execution_count": 18,
   "id": "ed80309b-f53d-4097-b104-4b84d241bbbb",
   "metadata": {},
   "outputs": [
    {
     "data": {
      "text/plain": [
       "22973"
      ]
     },
     "execution_count": 18,
     "metadata": {},
     "output_type": "execute_result"
    }
   ],
   "source": [
    "voc_list = []\n",
    "\n",
    "for index, row in ticket_df.iterrows():\n",
    "    meldung_tokens = row['Meldung_cleaned'].split()\n",
    "    voc_list.extend(meldung_tokens)\n",
    "\n",
    "unique_tokens = set(voc_list)\n",
    "count_voc = len(unique_tokens)\n",
    "count_voc"
   ]
  },
  {
   "cell_type": "markdown",
   "id": "aee269b4-594f-4280-bedc-fcbd0e943083",
   "metadata": {
    "tags": []
   },
   "source": [
    "### Stopp-Wörter aus Meldung_cleaned entfernen"
   ]
  },
  {
   "cell_type": "code",
   "execution_count": 19,
   "id": "12d62a1a-75a1-4c93-80c9-369123836138",
   "metadata": {},
   "outputs": [],
   "source": [
    "ticket_df['Meldung_cleaned'] = ticket_df['Meldung_cleaned'].apply(remove_stop_words)"
   ]
  },
  {
   "cell_type": "markdown",
   "id": "43cdfe44-e243-4dc4-a0b6-6403373350ad",
   "metadata": {},
   "source": [
    "### Meldung_lemmatized setzen"
   ]
  },
  {
   "cell_type": "code",
   "execution_count": 20,
   "id": "5039ba2e-218d-4b6b-a809-3a8312c5ed44",
   "metadata": {},
   "outputs": [],
   "source": [
    "ticket_df['Meldung_lemmatized'] = ''\n",
    "\n",
    "for index, row in ticket_df.iterrows():\n",
    "    try:\n",
    "        meldung = row['Meldung_cleaned']\n",
    "        meldung_lemmatized = lemmatize_text_spacy(meldung)\n",
    "    except:\n",
    "        ticket_df.at[index, 'Meldung_lemmatized'] = ''\n",
    "    else:\n",
    "        ticket_df.at[index, 'Meldung_lemmatized'] = meldung_lemmatized"
   ]
  },
  {
   "cell_type": "markdown",
   "id": "cb007947-4442-4fd5-9367-0dafce6e7433",
   "metadata": {},
   "source": [
    "### Vokabular nach Lemmatisierung zählen"
   ]
  },
  {
   "cell_type": "code",
   "execution_count": 21,
   "id": "152096fa-a49e-4f17-b06e-3de10e6782bb",
   "metadata": {},
   "outputs": [
    {
     "data": {
      "text/plain": [
       "18696"
      ]
     },
     "execution_count": 21,
     "metadata": {},
     "output_type": "execute_result"
    }
   ],
   "source": [
    "voc_list_lemma = []\n",
    "\n",
    "for index, row in ticket_df.iterrows():\n",
    "    meldung_tokens_lemma = row['Meldung_lemmatized'].split()\n",
    "    voc_list_lemma.extend(meldung_tokens_lemma)\n",
    "\n",
    "unique_tokens_lemma = set(voc_list_lemma)\n",
    "count_voc_lemma = len(unique_tokens_lemma)\n",
    "count_voc_lemma"
   ]
  },
  {
   "cell_type": "markdown",
   "id": "44031ad5-661d-47fa-8e3b-39f33f67b3d3",
   "metadata": {},
   "source": [
    "### Alle leeren Zeilen löschen"
   ]
  },
  {
   "cell_type": "code",
   "execution_count": 22,
   "id": "5a585181-421c-4c95-a950-9b515dec31b7",
   "metadata": {},
   "outputs": [],
   "source": [
    "ticket_df.Meldung.replace(r'', np.nan, regex=True, inplace=True)\n",
    "ticket_df = ticket_df[ticket_df.Meldung.notna()]"
   ]
  },
  {
   "cell_type": "code",
   "execution_count": 23,
   "id": "a2f65fcd-fac8-475c-98a0-8005bb65c258",
   "metadata": {},
   "outputs": [
    {
     "name": "stdout",
     "output_type": "stream",
     "text": [
      "<class 'pandas.core.frame.DataFrame'>\n",
      "Int64Index: 19222 entries, 0 to 21071\n",
      "Data columns (total 6 columns):\n",
      " #   Column              Non-Null Count  Dtype \n",
      "---  ------              --------------  ----- \n",
      " 0   Meldung             19222 non-null  object\n",
      " 1   Ticketart           19222 non-null  int64 \n",
      " 2   Meldung_cleaned     19222 non-null  object\n",
      " 3   Meldung_BERT        19222 non-null  object\n",
      " 4   Länge               19222 non-null  int64 \n",
      " 5   Meldung_lemmatized  19222 non-null  object\n",
      "dtypes: int64(2), object(4)\n",
      "memory usage: 1.0+ MB\n"
     ]
    }
   ],
   "source": [
    "ticket_df.info()"
   ]
  },
  {
   "cell_type": "markdown",
   "id": "a2a7e2a4",
   "metadata": {},
   "source": [
    "### Bereinigte Ticketdaten als Excel exportieren"
   ]
  },
  {
   "cell_type": "code",
   "execution_count": 24,
   "id": "dc658df9",
   "metadata": {},
   "outputs": [],
   "source": [
    "ticket_df.to_excel(\"finance_tickets_cleaned_with_topics.xlsx\")"
   ]
  }
 ],
 "metadata": {
  "kernelspec": {
   "display_name": "Python 3 (ipykernel)",
   "language": "python",
   "name": "python3"
  },
  "language_info": {
   "codemirror_mode": {
    "name": "ipython",
    "version": 3
   },
   "file_extension": ".py",
   "mimetype": "text/x-python",
   "name": "python",
   "nbconvert_exporter": "python",
   "pygments_lexer": "ipython3",
   "version": "3.10.5"
  }
 },
 "nbformat": 4,
 "nbformat_minor": 5
}
