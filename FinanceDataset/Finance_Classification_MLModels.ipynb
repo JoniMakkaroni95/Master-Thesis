{
 "cells": [
  {
   "cell_type": "markdown",
   "id": "c5919756",
   "metadata": {
    "id": "c5919756"
   },
   "source": [
    "# ML-Modelle auf dem Vergleichdatensatz trainieren"
   ]
  },
  {
   "cell_type": "markdown",
   "id": "56687e41",
   "metadata": {
    "id": "56687e41"
   },
   "source": [
    "### Benötigte Pakete importieren und Einstellungen setzen"
   ]
  },
  {
   "cell_type": "code",
   "execution_count": 1,
   "id": "c162d9e3",
   "metadata": {
    "id": "c162d9e3"
   },
   "outputs": [],
   "source": [
    "import pandas as pd\n",
    "import numpy as np\n",
    "import matplotlib.pyplot as plt\n",
    "%matplotlib inline\n",
    "import seaborn as sns\n",
    "import json\n",
    "import time\n",
    "\n",
    "from sklearn.feature_extraction.text import TfidfVectorizer\n",
    "from sklearn.feature_extraction.text import CountVectorizer\n",
    "from sklearn.feature_extraction.text import TfidfTransformer\n",
    "from sklearn.feature_selection import chi2\n",
    "\n",
    "from imblearn.over_sampling import RandomOverSampler\n",
    "from imblearn.over_sampling import SMOTE\n",
    "from collections import Counter\n",
    "\n",
    "from sklearn.model_selection import train_test_split\n",
    "from sklearn.naive_bayes import MultinomialNB\n",
    "from sklearn.svm import LinearSVC\n",
    "from sklearn.svm import SVC\n",
    "from sklearn.model_selection import cross_val_score\n",
    "from sklearn.model_selection import GridSearchCV\n",
    "\n",
    "from sklearn import metrics\n",
    "from sklearn.metrics import confusion_matrix\n",
    "from sklearn.metrics import accuracy_score\n",
    "from sklearn.metrics import balanced_accuracy_score\n",
    "from sklearn.metrics import f1_score"
   ]
  },
  {
   "cell_type": "code",
   "execution_count": 2,
   "id": "26fc829e-5278-4cec-9bb6-6bb8d8fc2d78",
   "metadata": {},
   "outputs": [],
   "source": [
    "plt.rcParams['figure.dpi'] = 300\n",
    "plt.rcParams['savefig.dpi'] = 300"
   ]
  },
  {
   "cell_type": "markdown",
   "id": "b0094ef4",
   "metadata": {
    "id": "b0094ef4"
   },
   "source": [
    "### Bereinigte Ticketdaten einlesen und erkunden"
   ]
  },
  {
   "cell_type": "code",
   "execution_count": 3,
   "id": "bf1315a8",
   "metadata": {
    "id": "bf1315a8",
    "outputId": "366174ea-a4ca-4b9a-88fd-a3f6a0a44381"
   },
   "outputs": [
    {
     "data": {
      "text/html": [
       "<div>\n",
       "<style scoped>\n",
       "    .dataframe tbody tr th:only-of-type {\n",
       "        vertical-align: middle;\n",
       "    }\n",
       "\n",
       "    .dataframe tbody tr th {\n",
       "        vertical-align: top;\n",
       "    }\n",
       "\n",
       "    .dataframe thead th {\n",
       "        text-align: right;\n",
       "    }\n",
       "</style>\n",
       "<table border=\"1\" class=\"dataframe\">\n",
       "  <thead>\n",
       "    <tr style=\"text-align: right;\">\n",
       "      <th></th>\n",
       "      <th>Unnamed: 0</th>\n",
       "      <th>Meldung</th>\n",
       "      <th>Ticketart</th>\n",
       "      <th>Meldung_cleaned</th>\n",
       "      <th>Meldung_BERT</th>\n",
       "      <th>Länge</th>\n",
       "      <th>Meldung_lemmatized</th>\n",
       "    </tr>\n",
       "  </thead>\n",
       "  <tbody>\n",
       "    <tr>\n",
       "      <th>0</th>\n",
       "      <td>0</td>\n",
       "      <td>Good morning my name is XXXX XXXX and I apprec...</td>\n",
       "      <td>0</td>\n",
       "      <td>good morning name appreciate could help put st...</td>\n",
       "      <td>good morning my name is and appreciate it if y...</td>\n",
       "      <td>75</td>\n",
       "      <td>good morning name appreciate could help put st...</td>\n",
       "    </tr>\n",
       "    <tr>\n",
       "      <th>1</th>\n",
       "      <td>1</td>\n",
       "      <td>I upgraded my XXXX XXXX card in XX/XX/2018 and...</td>\n",
       "      <td>1</td>\n",
       "      <td>upgraded card told agent upgrade anniversary d...</td>\n",
       "      <td>i upgraded my card in and was told by the agen...</td>\n",
       "      <td>56</td>\n",
       "      <td>upgrade card tell agent upgrade anniversary da...</td>\n",
       "    </tr>\n",
       "    <tr>\n",
       "      <th>2</th>\n",
       "      <td>2</td>\n",
       "      <td>Chase Card was reported on XX/XX/2019. However...</td>\n",
       "      <td>1</td>\n",
       "      <td>chase card reported however fraudulent applica...</td>\n",
       "      <td>chase card was reported on however fraudulent ...</td>\n",
       "      <td>31</td>\n",
       "      <td>chase card report however fraudulent applicati...</td>\n",
       "    </tr>\n",
       "    <tr>\n",
       "      <th>3</th>\n",
       "      <td>3</td>\n",
       "      <td>On XX/XX/2018, while trying to book a XXXX  XX...</td>\n",
       "      <td>1</td>\n",
       "      <td>trying book ticket came across offer applied t...</td>\n",
       "      <td>on while trying to book ticket came across an ...</td>\n",
       "      <td>240</td>\n",
       "      <td>try book ticket come across offer apply toward...</td>\n",
       "    </tr>\n",
       "    <tr>\n",
       "      <th>4</th>\n",
       "      <td>4</td>\n",
       "      <td>my grand son give me check for {$1600.00} i de...</td>\n",
       "      <td>0</td>\n",
       "      <td>grand son give check deposit chase account fun...</td>\n",
       "      <td>my grand son give me check for deposit it into...</td>\n",
       "      <td>88</td>\n",
       "      <td>grand son give check deposit chase account fun...</td>\n",
       "    </tr>\n",
       "  </tbody>\n",
       "</table>\n",
       "</div>"
      ],
      "text/plain": [
       "   Unnamed: 0                                            Meldung  Ticketart  \\\n",
       "0           0  Good morning my name is XXXX XXXX and I apprec...          0   \n",
       "1           1  I upgraded my XXXX XXXX card in XX/XX/2018 and...          1   \n",
       "2           2  Chase Card was reported on XX/XX/2019. However...          1   \n",
       "3           3  On XX/XX/2018, while trying to book a XXXX  XX...          1   \n",
       "4           4  my grand son give me check for {$1600.00} i de...          0   \n",
       "\n",
       "                                     Meldung_cleaned  \\\n",
       "0  good morning name appreciate could help put st...   \n",
       "1  upgraded card told agent upgrade anniversary d...   \n",
       "2  chase card reported however fraudulent applica...   \n",
       "3  trying book ticket came across offer applied t...   \n",
       "4  grand son give check deposit chase account fun...   \n",
       "\n",
       "                                        Meldung_BERT  Länge  \\\n",
       "0  good morning my name is and appreciate it if y...     75   \n",
       "1  i upgraded my card in and was told by the agen...     56   \n",
       "2  chase card was reported on however fraudulent ...     31   \n",
       "3  on while trying to book ticket came across an ...    240   \n",
       "4  my grand son give me check for deposit it into...     88   \n",
       "\n",
       "                                  Meldung_lemmatized  \n",
       "0  good morning name appreciate could help put st...  \n",
       "1  upgrade card tell agent upgrade anniversary da...  \n",
       "2  chase card report however fraudulent applicati...  \n",
       "3  try book ticket come across offer apply toward...  \n",
       "4  grand son give check deposit chase account fun...  "
      ]
     },
     "execution_count": 3,
     "metadata": {},
     "output_type": "execute_result"
    }
   ],
   "source": [
    "finance_ticket_df = pd.read_excel('finance_tickets_cleaned_with_topics.xlsx')\n",
    "finance_ticket_df.head(5)"
   ]
  },
  {
   "cell_type": "code",
   "execution_count": 4,
   "id": "38459c25-1212-496d-bfce-bbb281af86db",
   "metadata": {},
   "outputs": [
    {
     "data": {
      "text/html": [
       "<div>\n",
       "<style scoped>\n",
       "    .dataframe tbody tr th:only-of-type {\n",
       "        vertical-align: middle;\n",
       "    }\n",
       "\n",
       "    .dataframe tbody tr th {\n",
       "        vertical-align: top;\n",
       "    }\n",
       "\n",
       "    .dataframe thead th {\n",
       "        text-align: right;\n",
       "    }\n",
       "</style>\n",
       "<table border=\"1\" class=\"dataframe\">\n",
       "  <thead>\n",
       "    <tr style=\"text-align: right;\">\n",
       "      <th></th>\n",
       "      <th>Meldung</th>\n",
       "      <th>Meldung_lemmatized</th>\n",
       "      <th>Klasse</th>\n",
       "    </tr>\n",
       "  </thead>\n",
       "  <tbody>\n",
       "    <tr>\n",
       "      <th>0</th>\n",
       "      <td>Good morning my name is XXXX XXXX and I apprec...</td>\n",
       "      <td>good morning name appreciate could help put st...</td>\n",
       "      <td>0</td>\n",
       "    </tr>\n",
       "    <tr>\n",
       "      <th>1</th>\n",
       "      <td>I upgraded my XXXX XXXX card in XX/XX/2018 and...</td>\n",
       "      <td>upgrade card tell agent upgrade anniversary da...</td>\n",
       "      <td>1</td>\n",
       "    </tr>\n",
       "    <tr>\n",
       "      <th>2</th>\n",
       "      <td>Chase Card was reported on XX/XX/2019. However...</td>\n",
       "      <td>chase card report however fraudulent applicati...</td>\n",
       "      <td>1</td>\n",
       "    </tr>\n",
       "    <tr>\n",
       "      <th>3</th>\n",
       "      <td>On XX/XX/2018, while trying to book a XXXX  XX...</td>\n",
       "      <td>try book ticket come across offer apply toward...</td>\n",
       "      <td>1</td>\n",
       "    </tr>\n",
       "    <tr>\n",
       "      <th>4</th>\n",
       "      <td>my grand son give me check for {$1600.00} i de...</td>\n",
       "      <td>grand son give check deposit chase account fun...</td>\n",
       "      <td>0</td>\n",
       "    </tr>\n",
       "    <tr>\n",
       "      <th>...</th>\n",
       "      <td>...</td>\n",
       "      <td>...</td>\n",
       "      <td>...</td>\n",
       "    </tr>\n",
       "    <tr>\n",
       "      <th>19217</th>\n",
       "      <td>After being a Chase Card customer for well ove...</td>\n",
       "      <td>chase card customer well decade offer multiple...</td>\n",
       "      <td>1</td>\n",
       "    </tr>\n",
       "    <tr>\n",
       "      <th>19218</th>\n",
       "      <td>On Wednesday, XX/XX/XXXX I called Chas, my XXX...</td>\n",
       "      <td>wednesday call chas visa credit card provider ...</td>\n",
       "      <td>3</td>\n",
       "    </tr>\n",
       "    <tr>\n",
       "      <th>19219</th>\n",
       "      <td>I am not familiar with XXXX pay and did not un...</td>\n",
       "      <td>familiar pay understand great risk provide con...</td>\n",
       "      <td>3</td>\n",
       "    </tr>\n",
       "    <tr>\n",
       "      <th>19220</th>\n",
       "      <td>I have had flawless credit for 30 yrs. I've ha...</td>\n",
       "      <td>flawless credit yrs chase credit card chase fr...</td>\n",
       "      <td>4</td>\n",
       "    </tr>\n",
       "    <tr>\n",
       "      <th>19221</th>\n",
       "      <td>Roughly 10+ years ago I closed out my accounts...</td>\n",
       "      <td>roughly year ago close account jp morgan chase...</td>\n",
       "      <td>4</td>\n",
       "    </tr>\n",
       "  </tbody>\n",
       "</table>\n",
       "<p>19222 rows × 3 columns</p>\n",
       "</div>"
      ],
      "text/plain": [
       "                                                 Meldung  \\\n",
       "0      Good morning my name is XXXX XXXX and I apprec...   \n",
       "1      I upgraded my XXXX XXXX card in XX/XX/2018 and...   \n",
       "2      Chase Card was reported on XX/XX/2019. However...   \n",
       "3      On XX/XX/2018, while trying to book a XXXX  XX...   \n",
       "4      my grand son give me check for {$1600.00} i de...   \n",
       "...                                                  ...   \n",
       "19217  After being a Chase Card customer for well ove...   \n",
       "19218  On Wednesday, XX/XX/XXXX I called Chas, my XXX...   \n",
       "19219  I am not familiar with XXXX pay and did not un...   \n",
       "19220  I have had flawless credit for 30 yrs. I've ha...   \n",
       "19221  Roughly 10+ years ago I closed out my accounts...   \n",
       "\n",
       "                                      Meldung_lemmatized  Klasse  \n",
       "0      good morning name appreciate could help put st...       0  \n",
       "1      upgrade card tell agent upgrade anniversary da...       1  \n",
       "2      chase card report however fraudulent applicati...       1  \n",
       "3      try book ticket come across offer apply toward...       1  \n",
       "4      grand son give check deposit chase account fun...       0  \n",
       "...                                                  ...     ...  \n",
       "19217  chase card customer well decade offer multiple...       1  \n",
       "19218  wednesday call chas visa credit card provider ...       3  \n",
       "19219  familiar pay understand great risk provide con...       3  \n",
       "19220  flawless credit yrs chase credit card chase fr...       4  \n",
       "19221  roughly year ago close account jp morgan chase...       4  \n",
       "\n",
       "[19222 rows x 3 columns]"
      ]
     },
     "execution_count": 4,
     "metadata": {},
     "output_type": "execute_result"
    }
   ],
   "source": [
    "ticket_df = finance_ticket_df[['Meldung', 'Meldung_lemmatized', 'Ticketart']].copy()\n",
    "ticket_df.rename(columns={'Ticketart': 'Klasse'}, inplace=True)\n",
    "ticket_df"
   ]
  },
  {
   "cell_type": "markdown",
   "id": "84a01030-e8c4-48fb-b187-da9a5b9464aa",
   "metadata": {
    "id": "23c88a05"
   },
   "source": [
    "### Klassen numerische Werte zuordnen und Klassenverteilung darstellen"
   ]
  },
  {
   "cell_type": "code",
   "execution_count": 5,
   "id": "efd71f1d",
   "metadata": {
    "id": "efd71f1d",
    "outputId": "64090d42-df2a-4c4b-adbe-9886dd55af51"
   },
   "outputs": [
    {
     "data": {
      "text/plain": [
       "0    4888\n",
       "1    4802\n",
       "3    4131\n",
       "2    3295\n",
       "4    2106\n",
       "Name: Klasse, dtype: int64"
      ]
     },
     "execution_count": 5,
     "metadata": {},
     "output_type": "execute_result"
    }
   ],
   "source": [
    "ticket_df['Klasse'].value_counts()"
   ]
  },
  {
   "cell_type": "code",
   "execution_count": 6,
   "id": "9a588640",
   "metadata": {
    "id": "9a588640",
    "outputId": "3aea03b9-8e10-45b7-f908-997778610468"
   },
   "outputs": [
    {
     "data": {
      "text/plain": [
       "Bank Account services          4888\n",
       "Credit card or prepaid card    4802\n",
       "Theft/Dispute Reporting        4131\n",
       "Others                         3295\n",
       "Mortgage/Loan                  2106\n",
       "Name: Ticketart, dtype: int64"
      ]
     },
     "execution_count": 6,
     "metadata": {},
     "output_type": "execute_result"
    }
   ],
   "source": [
    "mapping_classes = {0: 'Bank Account services', 1: 'Credit card or prepaid card', 2: 'Others', 3: 'Theft/Dispute Reporting', 4: 'Mortgage/Loan'}\n",
    "ticket_df['Ticketart'] = ticket_df['Klasse'].map(mapping_classes)\n",
    "ticket_df['Ticketart'].value_counts()"
   ]
  },
  {
   "cell_type": "code",
   "execution_count": 7,
   "id": "dbba2297",
   "metadata": {
    "id": "dbba2297",
    "outputId": "f0c1e892-76f3-4aae-8df8-60c0d6a71124"
   },
   "outputs": [
    {
     "data": {
      "image/png": "[encoded data removed]",
      "text/plain": [
       "<Figure size 1200x900 with 1 Axes>"
      ]
     },
     "metadata": {
      "needs_background": "light"
     },
     "output_type": "display_data"
    }
   ],
   "source": [
    "fig, ax = plt.subplots(figsize=(4,3))\n",
    "ticket_df.groupby('Klasse').Meldung_lemmatized.count().plot.bar(ylim=0)\n",
    "plt.xlabel('Ticketarten')\n",
    "ax.set_xticklabels(['Bank Account services', 'Credit card or prepaid card', 'Others', 'Theft/Dispute Reporting', 'Mortgage/Loan'])\n",
    "plt.show()"
   ]
  },
  {
   "cell_type": "markdown",
   "id": "5cbb91f1-e125-4c6a-85d4-82e7c275b434",
   "metadata": {},
   "source": [
    "### Initialisierung der Listen, in welchen die benötigten Werte gespeichert werden"
   ]
  },
  {
   "cell_type": "code",
   "execution_count": 8,
   "id": "f88fcdeb-c9a8-4eac-90d8-2d184b661f59",
   "metadata": {},
   "outputs": [],
   "source": [
    "training_times = []\n",
    "\n",
    "accuracies = []\n",
    "\n",
    "balanced_accuracies = []\n",
    "\n",
    "f1_scores_macro = []\n",
    "f1_scores_weighted = []"
   ]
  },
  {
   "cell_type": "markdown",
   "id": "62ded8f7-025b-4f5d-9e89-8587165c9e20",
   "metadata": {},
   "source": [
    "### Baseline-Modell trainieren, Vorhersagen treffen und Evaluierungswerte speichern (auf unbereinigten Ticketmeldungen)"
   ]
  },
  {
   "cell_type": "code",
   "execution_count": 9,
   "id": "7c538fc9-76d3-479a-a442-d5783ef81b50",
   "metadata": {},
   "outputs": [],
   "source": [
    "X_train_baseline, X_test_baseline, y_train_baseline, y_test_baseline = train_test_split(ticket_df['Meldung'], ticket_df['Klasse'], random_state = 24)"
   ]
  },
  {
   "cell_type": "code",
   "execution_count": 10,
   "id": "f76a066e-bc32-4b76-859b-b02b561ae476",
   "metadata": {},
   "outputs": [],
   "source": [
    "count_vect_baseline = CountVectorizer()\n",
    "X_train_counts_baseline = count_vect_baseline.fit_transform(X_train_baseline.values.astype('U'))\n",
    "X_test_counts_baseline = count_vect_baseline.transform(X_test_baseline.values.astype('U'))"
   ]
  },
  {
   "cell_type": "code",
   "execution_count": 11,
   "id": "7fe733b3-8295-450e-8519-200e8f7406ea",
   "metadata": {},
   "outputs": [],
   "source": [
    "tfidf_transformer_baseline = TfidfTransformer()\n",
    "X_train_tfidf_baseline = tfidf_transformer_baseline.fit_transform(X_train_counts_baseline)\n",
    "X_test_tfidf_baseline = tfidf_transformer_baseline.transform(X_test_counts_baseline)"
   ]
  },
  {
   "cell_type": "code",
   "execution_count": 12,
   "id": "c082fbd6-2568-4c6f-a457-4470d45a0ea9",
   "metadata": {},
   "outputs": [],
   "source": [
    "start_time_baseline = time.time()\n",
    "ticket_clf_baseline = MultinomialNB().fit(X_train_tfidf_baseline, y_train_baseline)\n",
    "end_time_baseline = time.time()\n",
    "training_time_baseline = round(end_time_baseline - start_time_baseline, 2)"
   ]
  },
  {
   "cell_type": "code",
   "execution_count": 13,
   "id": "47e707fe-8833-40b8-8139-cf6a8ebf43f6",
   "metadata": {},
   "outputs": [],
   "source": [
    "y_pred_baseline = ticket_clf_baseline.predict(X_test_tfidf_baseline)"
   ]
  },
  {
   "cell_type": "code",
   "execution_count": 14,
   "id": "22b0e142-32f3-45d0-ae4f-8cd26a8c5cee",
   "metadata": {},
   "outputs": [
    {
     "name": "stdout",
     "output_type": "stream",
     "text": [
      "0.02\n",
      "0.71\n",
      "0.63\n",
      "0.61\n",
      "0.67\n"
     ]
    }
   ],
   "source": [
    "print(training_time_baseline)\n",
    "training_times.append(training_time_baseline)\n",
    "\n",
    "accuracy_baseline = round(accuracy_score(y_test_baseline, y_pred_baseline), 2)\n",
    "print(accuracy_baseline)\n",
    "accuracies.append(accuracy_baseline)\n",
    "\n",
    "balanced_accuracy_baseline = round(balanced_accuracy_score(y_test_baseline, y_pred_baseline), 2)\n",
    "print(balanced_accuracy_baseline)\n",
    "balanced_accuracies.append(balanced_accuracy_baseline)\n",
    "\n",
    "f1_score_macro_baseline = round(f1_score(y_test_baseline, y_pred_baseline, average='macro'), 2)\n",
    "print(f1_score_macro_baseline)\n",
    "f1_scores_macro.append(f1_score_macro_baseline)\n",
    "\n",
    "f1_score_weighted_baseline = round(f1_score(y_test_baseline, y_pred_baseline, average='weighted'), 2)\n",
    "print(f1_score_weighted_baseline)\n",
    "f1_scores_weighted.append(f1_score_weighted_baseline)"
   ]
  },
  {
   "cell_type": "markdown",
   "id": "dc53002e-4877-456a-b28f-4be159289960",
   "metadata": {},
   "source": [
    "### Textrepräsentation durch TF-IDF (der bereinigten und lemmatisierten Ticketmeldungen) und Merkmalsauswahl mit Chi-Quadrat-Methode"
   ]
  },
  {
   "cell_type": "code",
   "execution_count": 15,
   "id": "b4c5e81a-8b1e-4b48-90a0-b539627ab255",
   "metadata": {},
   "outputs": [],
   "source": [
    "tfidf = TfidfVectorizer(lowercase=False, analyzer='word', sublinear_tf=True, min_df=2, norm='l2', ngram_range=(1, 3))\n",
    "features = tfidf.fit_transform(ticket_df['Meldung_lemmatized'].values.astype('U'))\n",
    "labels = ticket_df.Klasse"
   ]
  },
  {
   "cell_type": "code",
   "execution_count": 16,
   "id": "7f332dfd-3abf-4ae4-8593-534e1d637b6b",
   "metadata": {},
   "outputs": [
    {
     "name": "stdout",
     "output_type": "stream",
     "text": [
      "\u001b[1mTicketart Bank Account services:\u001b[0m\n",
      "Unigramme mit stärkster Korrelation:\n",
      " atm, checking, credit, bank, account, branch, money, fund, check, deposit\n",
      "\n",
      "\n",
      "Bigramme mit stärkster Korrelation:\n",
      " credit report, account chase, check deposit, credit card, checking account, saving account, bank account, direct deposit, deposit check, check account\n",
      "\n",
      "---\n",
      "\n",
      "\u001b[1mTicketart Credit card or prepaid card:\u001b[0m\n",
      "Unigramme mit stärkster Korrelation:\n",
      " apply, jpmcb, bureaus, reporting, score, hard, card, report, credit, inquiry\n",
      "\n",
      "\n",
      "Bigramme mit stärkster Korrelation:\n",
      " jpmcb card, chase credit, credit limit, apply credit, credit reporting, credit score, inquiry credit, hard inquiry, credit card, credit report\n",
      "\n",
      "---\n",
      "\n",
      "\u001b[1mTicketart Mortgage/Loan:\u001b[0m\n",
      "Unigramme mit stärkster Korrelation:\n",
      " due, pay, make, principal, automatic, monthly, auto, minimum, late, payment\n",
      "\n",
      "\n",
      "Bigramme mit stärkster Korrelation:\n",
      " payment would, automatic payment, payment receive, monthly payment, payment chase, minimum payment, payment due, payment make, late payment, make payment\n",
      "\n",
      "---\n",
      "\n",
      "\u001b[1mTicketart Others:\u001b[0m\n",
      "Unigramme mit stärkster Korrelation:\n",
      " lien, house, sale, refinance, foreclosure, home, property, modification, mortgage, loan\n",
      "\n",
      "\n",
      "Bigramme mit stärkster Korrelation:\n",
      " modification chase, mortgage payment, credit card, mortgage chase, mortgage company, loan chase, mortgage loan, chase mortgage, short sale, loan modification\n",
      "\n",
      "---\n",
      "\n",
      "\u001b[1mTicketart Theft/Dispute Reporting:\u001b[0m\n",
      "Unigramme mit stärkster Korrelation:\n",
      " loan, overdraft, flight, transaction, purchase, refund, fee, dispute, merchant, charge\n",
      "\n",
      "\n",
      "Bigramme mit stärkster Korrelation:\n",
      " charge valid, charge card, card charge, annual fee, overdraft fee, charge make, unauthorized charge, fraudulent charge, charge chase, dispute charge\n",
      "\n",
      "---\n",
      "\n"
     ]
    }
   ],
   "source": [
    "tickettype_keys = ['Bank Account services', 'Credit card or prepaid card', 'Others', 'Theft/Dispute Reporting', 'Mortgage/Loan']\n",
    "tickettype_ids = [0, 1, 2, 3, 4]\n",
    "tickettype_dict = {tickettype_keys[i]: tickettype_ids[i] for i in range(len(tickettype_keys))}\n",
    "\n",
    "N = 10\n",
    "for tickettype_key, tickettype_id in sorted(tickettype_dict.items()):\n",
    "    chi2_features = chi2(features, labels == tickettype_id)\n",
    "    indices = np.argsort(chi2_features[0])\n",
    "    feature_names = np.array(tfidf.get_feature_names_out())[indices]\n",
    "    unigrams = [v for v in feature_names if len(v.split(' ')) == 1]\n",
    "    bigrams = [v for v in feature_names if len(v.split(' ')) == 2]\n",
    "    print(\"\\033[1mTicketart {}:\\033[0m\".format(tickettype_key))\n",
    "    print(\"Unigramme mit stärkster Korrelation:\\n {}\".format(', '.join(unigrams[-N:])))\n",
    "    print(\"\\n\")\n",
    "    print(\"Bigramme mit stärkster Korrelation:\\n {}\".format(', '.join(bigrams[-N:])))\n",
    "    print(\"\\n---\\n\")"
   ]
  },
  {
   "cell_type": "markdown",
   "id": "227dc597-2966-476e-9caa-2467d6d2592c",
   "metadata": {},
   "source": [
    "### Train/Test Split"
   ]
  },
  {
   "cell_type": "code",
   "execution_count": 17,
   "id": "0fe7132e-2fff-4320-92ef-c8439370ad55",
   "metadata": {},
   "outputs": [],
   "source": [
    "X_train, X_test, y_train, y_test, indices_train, indices_test = train_test_split(features, labels, ticket_df.index, test_size=0.2, stratify=labels, random_state=24)"
   ]
  },
  {
   "cell_type": "markdown",
   "id": "38f1482e-455a-4e94-8a76-e35fdd298f0d",
   "metadata": {},
   "source": [
    "### MNB-Modell trainieren, Vorhersagen treffen und Evaluierungswerte speichern"
   ]
  },
  {
   "cell_type": "code",
   "execution_count": 18,
   "id": "6ebd1955-819c-4cea-bf8e-4faed05052f4",
   "metadata": {},
   "outputs": [],
   "source": [
    "start_time_mnb = time.time()\n",
    "ticket_clf_mnb = MultinomialNB(alpha=0.1, fit_prior=False).fit(X_train, y_train)\n",
    "end_time_mnb = time.time()\n",
    "training_time_mnb = round(end_time_mnb - start_time_mnb, 2)"
   ]
  },
  {
   "cell_type": "code",
   "execution_count": 19,
   "id": "b2529bb2-1eca-4b93-8f33-51793270ae48",
   "metadata": {},
   "outputs": [],
   "source": [
    "y_pred_mnb = ticket_clf_mnb.predict(X_test)"
   ]
  },
  {
   "cell_type": "code",
   "execution_count": 20,
   "id": "2d4506ee-025e-445f-8996-8998802f75b1",
   "metadata": {},
   "outputs": [
    {
     "name": "stdout",
     "output_type": "stream",
     "text": [
      "0.07\n",
      "0.82\n",
      "0.8\n",
      "0.81\n",
      "0.82\n"
     ]
    }
   ],
   "source": [
    "print(training_time_mnb)\n",
    "training_times.append(training_time_mnb)\n",
    "\n",
    "accuracy_mnb = round(accuracy_score(y_test, y_pred_mnb), 2)\n",
    "print(accuracy_mnb)\n",
    "accuracies.append(accuracy_mnb)\n",
    "\n",
    "balanced_accuracy_mnb = round(balanced_accuracy_score(y_test, y_pred_mnb), 2)\n",
    "print(balanced_accuracy_mnb)\n",
    "balanced_accuracies.append(balanced_accuracy_mnb)\n",
    "\n",
    "f1_score_macro_mnb = round(f1_score(y_test, y_pred_mnb, average='macro'), 2)\n",
    "print(f1_score_macro_mnb)\n",
    "f1_scores_macro.append(f1_score_macro_mnb)\n",
    "\n",
    "f1_score_weighted_mnb = round(f1_score(y_test, y_pred_mnb, average='weighted'), 2)\n",
    "print(f1_score_weighted_mnb)\n",
    "f1_scores_weighted.append(f1_score_weighted_mnb)"
   ]
  },
  {
   "cell_type": "markdown",
   "id": "e867ae64-6ba5-470b-b42d-a7602f2b99cb",
   "metadata": {},
   "source": [
    "### SVM-Modell trainieren, Vorhersagen treffen und Evaluierungswerte speichern"
   ]
  },
  {
   "cell_type": "code",
   "execution_count": 21,
   "id": "70cc216d-4e0d-4d52-838d-896846d5b94f",
   "metadata": {},
   "outputs": [],
   "source": [
    "start_time_svm = time.time()\n",
    "ticket_clf_svm = LinearSVC(class_weight='balanced').fit(X_train, y_train)\n",
    "end_time_svm = time.time()\n",
    "training_time_svm = round(end_time_svm - start_time_svm, 2)"
   ]
  },
  {
   "cell_type": "code",
   "execution_count": 22,
   "id": "53477b52-93fe-4e5e-a15d-fd3b2b37ba8d",
   "metadata": {},
   "outputs": [],
   "source": [
    "y_pred_svm = ticket_clf_svm.predict(X_test)"
   ]
  },
  {
   "cell_type": "code",
   "execution_count": 23,
   "id": "2e8d500c-92df-4328-b352-a0b635e67c35",
   "metadata": {},
   "outputs": [
    {
     "name": "stdout",
     "output_type": "stream",
     "text": [
      "2.13\n",
      "0.9\n",
      "0.9\n",
      "0.9\n",
      "0.9\n"
     ]
    }
   ],
   "source": [
    "print(training_time_svm)\n",
    "training_times.append(training_time_svm)\n",
    "\n",
    "accuracy_svm = round(accuracy_score(y_test, y_pred_svm), 2)\n",
    "print(accuracy_svm)\n",
    "accuracies.append(accuracy_svm)\n",
    "\n",
    "balanced_accuracy_svm = round(balanced_accuracy_score(y_test, y_pred_svm), 2)\n",
    "print(balanced_accuracy_svm)\n",
    "balanced_accuracies.append(balanced_accuracy_svm)\n",
    "\n",
    "f1_score_macro_svm = round(f1_score(y_test, y_pred_svm, average='macro'), 2)\n",
    "print(f1_score_macro_svm)\n",
    "f1_scores_macro.append(f1_score_macro_svm)\n",
    "\n",
    "f1_score_weighted_svm = round(f1_score(y_test, y_pred_svm, average='weighted'), 2)\n",
    "print(f1_score_weighted_svm)\n",
    "f1_scores_weighted.append(f1_score_weighted_svm)"
   ]
  },
  {
   "cell_type": "markdown",
   "id": "535107be-2663-4091-b483-889924ca68a5",
   "metadata": {},
   "source": [
    "### Gespeicherte Evaluierungswerte des BERT-Modells auf dem Vergleichsdatensatz holen"
   ]
  },
  {
   "cell_type": "code",
   "execution_count": 24,
   "id": "3877a5d7-9ab5-43de-b985-58d95a929d1b",
   "metadata": {},
   "outputs": [],
   "source": [
    "with open('value_cache_bert_finance', 'r') as f:\n",
    "    json_bert = json.load(f)\n",
    "    \n",
    "training_times.append(round(json_bert['training_time_bert'], 2))\n",
    "accuracies.append(round(json_bert['accuracy_bert'], 2))\n",
    "balanced_accuracies.append(round(json_bert['balanced_accuracy_bert'], 2))\n",
    "f1_scores_macro.append(round(json_bert['f1_score_macro_bert'], 2))\n",
    "f1_scores_weighted.append(round(json_bert['f1_score_weighted_bert'], 2))"
   ]
  },
  {
   "cell_type": "markdown",
   "id": "8fe2660d-c9b3-4198-bc03-900fecfd4b74",
   "metadata": {},
   "source": [
    "### Evaluierungswerte der ML-Modelle auf dem Vergleichsdatensatz speichern"
   ]
  },
  {
   "cell_type": "code",
   "execution_count": 25,
   "id": "d7294109-0977-4462-bf7f-4c08746bdbdd",
   "metadata": {},
   "outputs": [],
   "source": [
    "finance_values = {\n",
    "    \"training_times2\": training_times,\n",
    "    \"accuracies2\": accuracies,\n",
    "    \"balanced_accuracies2\": balanced_accuracies,\n",
    "    \"f1_scores_macro2\": f1_scores_macro,\n",
    "    \"f1_scores_weighted2\": f1_scores_weighted\n",
    "}\n",
    "\n",
    "json_finance = json.dumps(finance_values)\n",
    "    \n",
    "with open('value_cache_finance', 'w') as f:\n",
    "    f.write(json_finance)"
   ]
  }
 ],
 "metadata": {
  "colab": {
   "provenance": []
  },
  "kernelspec": {
   "display_name": "Python 3 (ipykernel)",
   "language": "python",
   "name": "python3"
  },
  "language_info": {
   "codemirror_mode": {
    "name": "ipython",
    "version": 3
   },
   "file_extension": ".py",
   "mimetype": "text/x-python",
   "name": "python",
   "nbconvert_exporter": "python",
   "pygments_lexer": "ipython3",
   "version": "3.10.5"
  }
 },
 "nbformat": 4,
 "nbformat_minor": 5
}
