{
 "cells": [
  {
   "cell_type": "markdown",
   "id": "775b2241",
   "metadata": {},
   "source": [
    "# Ticketklassifikation mit BERT\n",
    "\n",
    "Orientierungsquelle: https://towardsdatascience.com/multi-class-text-classification-with-deep-learning-using-bert-b59ca2f5c613"
   ]
  },
  {
   "cell_type": "markdown",
   "id": "362323c6",
   "metadata": {},
   "source": [
    "### Benötigte Pakete importieren"
   ]
  },
  {
   "cell_type": "code",
   "execution_count": 1,
   "id": "ddd0138d",
   "metadata": {},
   "outputs": [],
   "source": [
    "import pandas as pd\n",
    "import numpy as np\n",
    "import matplotlib.pyplot as plt\n",
    "\n",
    "import json\n",
    "import IProgress\n",
    "import random\n",
    "import time\n",
    "\n",
    "import torch\n",
    "from tqdm.notebook import tqdm\n",
    "from torch.utils.data import DataLoader, RandomSampler, SequentialSampler\n",
    "from torch.utils.data import TensorDataset\n",
    "import torch.nn as nn\n",
    "\n",
    "from transformers import BertTokenizer, BertForSequenceClassification\n",
    "from transformers import DistilBertTokenizer, DistilBertForSequenceClassification\n",
    "from transformers import AdamW, get_linear_schedule_with_warmup\n",
    "\n",
    "from sklearn.model_selection import train_test_split\n",
    "from sklearn.utils.class_weight import compute_class_weight\n",
    "from sklearn.metrics import classification_report, confusion_matrix, balanced_accuracy_score\n",
    "from sklearn.metrics import f1_score"
   ]
  },
  {
   "cell_type": "markdown",
   "id": "24fb71ec",
   "metadata": {},
   "source": [
    "### Ticketdaten importieren, betrachten und splitten"
   ]
  },
  {
   "cell_type": "code",
   "execution_count": 2,
   "id": "6221bec9-0442-46e3-9714-dd1e8e139478",
   "metadata": {},
   "outputs": [
    {
     "data": {
      "text/html": [
       "<div>\n",
       "<style scoped>\n",
       "    .dataframe tbody tr th:only-of-type {\n",
       "        vertical-align: middle;\n",
       "    }\n",
       "\n",
       "    .dataframe tbody tr th {\n",
       "        vertical-align: top;\n",
       "    }\n",
       "\n",
       "    .dataframe thead th {\n",
       "        text-align: right;\n",
       "    }\n",
       "</style>\n",
       "<table border=\"1\" class=\"dataframe\">\n",
       "  <thead>\n",
       "    <tr style=\"text-align: right;\">\n",
       "      <th></th>\n",
       "      <th>Unnamed: 0</th>\n",
       "      <th>Ticket-ID</th>\n",
       "      <th>Datum</th>\n",
       "      <th>Stichwort</th>\n",
       "      <th>Meldung</th>\n",
       "      <th>Ticketart</th>\n",
       "      <th>Sprache</th>\n",
       "      <th>Stichwort_cleaned</th>\n",
       "      <th>Meldung_cleaned</th>\n",
       "      <th>Meldung_BERT</th>\n",
       "      <th>Länge</th>\n",
       "      <th>Stichwort_lemmatized</th>\n",
       "      <th>Meldung_lemmatized</th>\n",
       "      <th>Klasse</th>\n",
       "    </tr>\n",
       "  </thead>\n",
       "  <tbody>\n",
       "    <tr>\n",
       "      <th>0</th>\n",
       "      <td>0</td>\n",
       "      <td>TN-2302-00013</td>\n",
       "      <td>2023-02-01 00:00:00</td>\n",
       "      <td>[Ext.] #207695: Wave sehr langsam: Einzelfall?</td>\n",
       "      <td>Hallo Herr Willi, _x000D__x000D_wir bekommen v...</td>\n",
       "      <td>Support</td>\n",
       "      <td>de</td>\n",
       "      <td>Ext Wave langsam Einzelfall</td>\n",
       "      <td>Hallo Herr Willi bekommen Kollegen beinahe tae...</td>\n",
       "      <td>Hallo Herr Willi wir bekommen von einem Kolleg...</td>\n",
       "      <td>136</td>\n",
       "      <td>Ext Wave langsam Einzelfall</td>\n",
       "      <td>Hallo Herr Willi bekommen Kollege beinahe taeg...</td>\n",
       "      <td>2</td>\n",
       "    </tr>\n",
       "    <tr>\n",
       "      <th>1</th>\n",
       "      <td>1</td>\n",
       "      <td>TN-2302-00016</td>\n",
       "      <td>2023-02-01 00:00:00</td>\n",
       "      <td>Per E-Mail senden: license.lhlic</td>\n",
       "      <td>könnt Ihr bitte meine deltaCAD-Demodatenbank-...</td>\n",
       "      <td>Lizenz</td>\n",
       "      <td>de</td>\n",
       "      <td>Per Mail senden license lhlic</td>\n",
       "      <td>koennt Ihr bitte deltaCAD Demodatenbank Lizenz...</td>\n",
       "      <td>koennt Ihr bitte meine deltaCAD Demodatenbank ...</td>\n",
       "      <td>10</td>\n",
       "      <td>per Mail send license Lhlic</td>\n",
       "      <td>koennen ihr bitte deltaCAD Demodatenbank Lizen...</td>\n",
       "      <td>4</td>\n",
       "    </tr>\n",
       "    <tr>\n",
       "      <th>2</th>\n",
       "      <td>2</td>\n",
       "      <td>TN-2302-00017</td>\n",
       "      <td>2023-02-01 00:00:00</td>\n",
       "      <td>Bestellung eines Headsets</td>\n",
       "      <td>Hallo Zusammen,_x000D_\\n_x000D_\\nich habe aktu...</td>\n",
       "      <td>IT</td>\n",
       "      <td>de</td>\n",
       "      <td>Bestellung Headsets</td>\n",
       "      <td>Hallo Zusammen aktuell probleme Senheiser Head...</td>\n",
       "      <td>Hallo Zusammen ich habe aktuell probleme mit m...</td>\n",
       "      <td>44</td>\n",
       "      <td>Bestellung Headset</td>\n",
       "      <td>Hallo zusammen aktuell problem Senheiser Heads...</td>\n",
       "      <td>3</td>\n",
       "    </tr>\n",
       "    <tr>\n",
       "      <th>3</th>\n",
       "      <td>3</td>\n",
       "      <td>TN-2302-00018</td>\n",
       "      <td>2023-02-01 00:00:00</td>\n",
       "      <td>Online Package Repo - Changelog und Release Datum</td>\n",
       "      <td>Im Package Repo fehlt leider die Möglichkeit d...</td>\n",
       "      <td>Wunsch</td>\n",
       "      <td>de</td>\n",
       "      <td>Online Package Repo Changelog Release Datum</td>\n",
       "      <td>Im Package Repo fehlt leider Moeglichkeit dire...</td>\n",
       "      <td>Im Package Repo fehlt leider die Moeglichkeit ...</td>\n",
       "      <td>78</td>\n",
       "      <td>Online Package Repo Changelog Release Datum</td>\n",
       "      <td>in Package Repo fehlen leider Moeglichkeit dir...</td>\n",
       "      <td>1</td>\n",
       "    </tr>\n",
       "    <tr>\n",
       "      <th>4</th>\n",
       "      <td>4</td>\n",
       "      <td>TN-2302-00021</td>\n",
       "      <td>2023-02-01 00:00:00</td>\n",
       "      <td>Waveabsturz: Message =&gt; Object reference not s...</td>\n",
       "      <td>Wenn man auf einer Tätigkeit steht und auf die...</td>\n",
       "      <td>Bug</td>\n",
       "      <td>de</td>\n",
       "      <td>Waveabsturz Message Object reference not set t...</td>\n",
       "      <td>Wenn Taetigkeit steht neue Funktion Vorgaenge ...</td>\n",
       "      <td>Wenn man auf einer Taetigkeit steht und auf di...</td>\n",
       "      <td>31</td>\n",
       "      <td>Waveabsturz Message Object reference not set t...</td>\n",
       "      <td>wenn Taetigkeit stehen neu Funktion Vorgaeng k...</td>\n",
       "      <td>0</td>\n",
       "    </tr>\n",
       "  </tbody>\n",
       "</table>\n",
       "</div>"
      ],
      "text/plain": [
       "   Unnamed: 0      Ticket-ID                Datum  \\\n",
       "0           0  TN-2302-00013  2023-02-01 00:00:00   \n",
       "1           1  TN-2302-00016  2023-02-01 00:00:00   \n",
       "2           2  TN-2302-00017  2023-02-01 00:00:00   \n",
       "3           3  TN-2302-00018  2023-02-01 00:00:00   \n",
       "4           4  TN-2302-00021  2023-02-01 00:00:00   \n",
       "\n",
       "                                           Stichwort  \\\n",
       "0     [Ext.] #207695: Wave sehr langsam: Einzelfall?   \n",
       "1                   Per E-Mail senden: license.lhlic   \n",
       "2                          Bestellung eines Headsets   \n",
       "3  Online Package Repo - Changelog und Release Datum   \n",
       "4  Waveabsturz: Message => Object reference not s...   \n",
       "\n",
       "                                             Meldung Ticketart Sprache  \\\n",
       "0  Hallo Herr Willi, _x000D__x000D_wir bekommen v...   Support      de   \n",
       "1   könnt Ihr bitte meine deltaCAD-Demodatenbank-...    Lizenz      de   \n",
       "2  Hallo Zusammen,_x000D_\\n_x000D_\\nich habe aktu...        IT      de   \n",
       "3  Im Package Repo fehlt leider die Möglichkeit d...    Wunsch      de   \n",
       "4  Wenn man auf einer Tätigkeit steht und auf die...       Bug      de   \n",
       "\n",
       "                                   Stichwort_cleaned  \\\n",
       "0                        Ext Wave langsam Einzelfall   \n",
       "1                      Per Mail senden license lhlic   \n",
       "2                                Bestellung Headsets   \n",
       "3        Online Package Repo Changelog Release Datum   \n",
       "4  Waveabsturz Message Object reference not set t...   \n",
       "\n",
       "                                     Meldung_cleaned  \\\n",
       "0  Hallo Herr Willi bekommen Kollegen beinahe tae...   \n",
       "1  koennt Ihr bitte deltaCAD Demodatenbank Lizenz...   \n",
       "2  Hallo Zusammen aktuell probleme Senheiser Head...   \n",
       "3  Im Package Repo fehlt leider Moeglichkeit dire...   \n",
       "4  Wenn Taetigkeit steht neue Funktion Vorgaenge ...   \n",
       "\n",
       "                                        Meldung_BERT  Länge  \\\n",
       "0  Hallo Herr Willi wir bekommen von einem Kolleg...    136   \n",
       "1  koennt Ihr bitte meine deltaCAD Demodatenbank ...     10   \n",
       "2  Hallo Zusammen ich habe aktuell probleme mit m...     44   \n",
       "3  Im Package Repo fehlt leider die Moeglichkeit ...     78   \n",
       "4  Wenn man auf einer Taetigkeit steht und auf di...     31   \n",
       "\n",
       "                                Stichwort_lemmatized  \\\n",
       "0                        Ext Wave langsam Einzelfall   \n",
       "1                        per Mail send license Lhlic   \n",
       "2                                 Bestellung Headset   \n",
       "3        Online Package Repo Changelog Release Datum   \n",
       "4  Waveabsturz Message Object reference not set t...   \n",
       "\n",
       "                                  Meldung_lemmatized  Klasse  \n",
       "0  Hallo Herr Willi bekommen Kollege beinahe taeg...       2  \n",
       "1  koennen ihr bitte deltaCAD Demodatenbank Lizen...       4  \n",
       "2  Hallo zusammen aktuell problem Senheiser Heads...       3  \n",
       "3  in Package Repo fehlen leider Moeglichkeit dir...       1  \n",
       "4  wenn Taetigkeit stehen neu Funktion Vorgaeng k...       0  "
      ]
     },
     "execution_count": 2,
     "metadata": {},
     "output_type": "execute_result"
    }
   ],
   "source": [
    "ticket_df = pd.read_excel('tickets_cleaned.xlsx')\n",
    "ticket_df.head()"
   ]
  },
  {
   "cell_type": "code",
   "execution_count": 3,
   "id": "58db43bd",
   "metadata": {},
   "outputs": [],
   "source": [
    "X_train, X_val, y_train, y_val = train_test_split(ticket_df.index.values, ticket_df.Klasse.values, test_size=0.15, random_state=24, stratify=ticket_df.Klasse.values)\n",
    "\n",
    "ticket_df['data_type'] = ['not_set']*ticket_df.shape[0]\n",
    "\n",
    "ticket_df.loc[X_train, 'data_type'] = 'train'\n",
    "ticket_df.loc[X_val, 'data_type'] = 'val'"
   ]
  },
  {
   "cell_type": "markdown",
   "id": "a5785248-606d-4fb0-996e-d1a022d97b33",
   "metadata": {},
   "source": [
    "### BERT-Tokenizer importieren und Ticketmeldungen kodieren"
   ]
  },
  {
   "cell_type": "code",
   "execution_count": 4,
   "id": "6f878e7f",
   "metadata": {},
   "outputs": [],
   "source": [
    "tokenizer = BertTokenizer.from_pretrained('dbmdz/bert-base-german-cased', do_lower_case=False)\n",
    "# tokenizer = DistilBertTokenizer.from_pretrained('distilbert-base-german-cased', do_lower_case=False)"
   ]
  },
  {
   "cell_type": "code",
   "execution_count": 5,
   "id": "5d6845a0-8852-4dad-b73d-12a99c86ce1e",
   "metadata": {},
   "outputs": [],
   "source": [
    "ticket_df = ticket_df[ticket_df.Meldung_BERT.notna()]"
   ]
  },
  {
   "cell_type": "code",
   "execution_count": 6,
   "id": "776eea4b",
   "metadata": {},
   "outputs": [
    {
     "name": "stderr",
     "output_type": "stream",
     "text": [
      "Truncation was not explicitly activated but `max_length` is provided a specific value, please use `truncation=True` to explicitly truncate examples to max length. Defaulting to 'longest_first' truncation strategy. If you encode pairs of sequences (GLUE-style) with the tokenizer you can select this strategy more precisely by providing a specific strategy to `truncation`.\n",
      "/opt/conda/lib/python3.10/site-packages/transformers/tokenization_utils_base.py:2346: FutureWarning: The `pad_to_max_length` argument is deprecated and will be removed in a future version, use `padding=True` or `padding='longest'` to pad to the longest sequence in the batch, or use `padding='max_length'` to pad to a max length. In this case, you can give a specific length with `max_length` (e.g. `max_length=45`) or leave max_length to None to pad to the maximal input size of the model (e.g. 512 for Bert).\n",
      "  warnings.warn(\n"
     ]
    }
   ],
   "source": [
    "encoded_data_train = tokenizer.batch_encode_plus(\n",
    "    ticket_df[ticket_df.data_type=='train'].Meldung_BERT.values, \n",
    "    add_special_tokens=True, \n",
    "    return_attention_mask=True, \n",
    "    pad_to_max_length=True, \n",
    "    max_length=256, \n",
    "    return_tensors='pt'\n",
    ")\n",
    "\n",
    "encoded_data_val = tokenizer.batch_encode_plus(\n",
    "    ticket_df[ticket_df.data_type=='val'].Meldung_BERT.values, \n",
    "    add_special_tokens=True, \n",
    "    return_attention_mask=True, \n",
    "    pad_to_max_length=True, \n",
    "    max_length=256, \n",
    "    return_tensors='pt'\n",
    ")\n",
    "\n",
    "input_ids_train = encoded_data_train['input_ids']\n",
    "attention_masks_train = encoded_data_train['attention_mask']\n",
    "labels_train = torch.tensor(ticket_df[ticket_df.data_type=='train'].Klasse.values)\n",
    "\n",
    "input_ids_val = encoded_data_val['input_ids']\n",
    "attention_masks_val = encoded_data_val['attention_mask']\n",
    "labels_val = torch.tensor(ticket_df[ticket_df.data_type=='val'].Klasse.values)\n",
    "\n",
    "dataset_train = TensorDataset(input_ids_train, attention_masks_train, labels_train)\n",
    "dataset_val = TensorDataset(input_ids_val, attention_masks_val, labels_val)"
   ]
  },
  {
   "cell_type": "markdown",
   "id": "ffc5c9b9-cf7b-4f54-aaf0-f3b6ccb9e63d",
   "metadata": {},
   "source": [
    "### BERT-Modell und Adam-Optimierer laden"
   ]
  },
  {
   "cell_type": "code",
   "execution_count": 7,
   "id": "3d0fa4bc",
   "metadata": {},
   "outputs": [
    {
     "name": "stderr",
     "output_type": "stream",
     "text": [
      "Some weights of the model checkpoint at dbmdz/bert-base-german-cased were not used when initializing BertForSequenceClassification: ['cls.predictions.decoder.weight', 'cls.predictions.transform.dense.weight', 'cls.predictions.transform.LayerNorm.bias', 'cls.predictions.transform.dense.bias', 'cls.predictions.transform.LayerNorm.weight', 'cls.predictions.bias']\n",
      "- This IS expected if you are initializing BertForSequenceClassification from the checkpoint of a model trained on another task or with another architecture (e.g. initializing a BertForSequenceClassification model from a BertForPreTraining model).\n",
      "- This IS NOT expected if you are initializing BertForSequenceClassification from the checkpoint of a model that you expect to be exactly identical (initializing a BertForSequenceClassification model from a BertForSequenceClassification model).\n",
      "Some weights of BertForSequenceClassification were not initialized from the model checkpoint at dbmdz/bert-base-german-cased and are newly initialized: ['classifier.weight', 'classifier.bias']\n",
      "You should probably TRAIN this model on a down-stream task to be able to use it for predictions and inference.\n"
     ]
    },
    {
     "data": {
      "text/plain": [
       "BertForSequenceClassification(\n",
       "  (bert): BertModel(\n",
       "    (embeddings): BertEmbeddings(\n",
       "      (word_embeddings): Embedding(31102, 768, padding_idx=0)\n",
       "      (position_embeddings): Embedding(512, 768)\n",
       "      (token_type_embeddings): Embedding(2, 768)\n",
       "      (LayerNorm): LayerNorm((768,), eps=1e-12, elementwise_affine=True)\n",
       "      (dropout): Dropout(p=0.1, inplace=False)\n",
       "    )\n",
       "    (encoder): BertEncoder(\n",
       "      (layer): ModuleList(\n",
       "        (0): BertLayer(\n",
       "          (attention): BertAttention(\n",
       "            (self): BertSelfAttention(\n",
       "              (query): Linear(in_features=768, out_features=768, bias=True)\n",
       "              (key): Linear(in_features=768, out_features=768, bias=True)\n",
       "              (value): Linear(in_features=768, out_features=768, bias=True)\n",
       "              (dropout): Dropout(p=0.1, inplace=False)\n",
       "            )\n",
       "            (output): BertSelfOutput(\n",
       "              (dense): Linear(in_features=768, out_features=768, bias=True)\n",
       "              (LayerNorm): LayerNorm((768,), eps=1e-12, elementwise_affine=True)\n",
       "              (dropout): Dropout(p=0.1, inplace=False)\n",
       "            )\n",
       "          )\n",
       "          (intermediate): BertIntermediate(\n",
       "            (dense): Linear(in_features=768, out_features=3072, bias=True)\n",
       "            (intermediate_act_fn): GELUActivation()\n",
       "          )\n",
       "          (output): BertOutput(\n",
       "            (dense): Linear(in_features=3072, out_features=768, bias=True)\n",
       "            (LayerNorm): LayerNorm((768,), eps=1e-12, elementwise_affine=True)\n",
       "            (dropout): Dropout(p=0.1, inplace=False)\n",
       "          )\n",
       "        )\n",
       "        (1): BertLayer(\n",
       "          (attention): BertAttention(\n",
       "            (self): BertSelfAttention(\n",
       "              (query): Linear(in_features=768, out_features=768, bias=True)\n",
       "              (key): Linear(in_features=768, out_features=768, bias=True)\n",
       "              (value): Linear(in_features=768, out_features=768, bias=True)\n",
       "              (dropout): Dropout(p=0.1, inplace=False)\n",
       "            )\n",
       "            (output): BertSelfOutput(\n",
       "              (dense): Linear(in_features=768, out_features=768, bias=True)\n",
       "              (LayerNorm): LayerNorm((768,), eps=1e-12, elementwise_affine=True)\n",
       "              (dropout): Dropout(p=0.1, inplace=False)\n",
       "            )\n",
       "          )\n",
       "          (intermediate): BertIntermediate(\n",
       "            (dense): Linear(in_features=768, out_features=3072, bias=True)\n",
       "            (intermediate_act_fn): GELUActivation()\n",
       "          )\n",
       "          (output): BertOutput(\n",
       "            (dense): Linear(in_features=3072, out_features=768, bias=True)\n",
       "            (LayerNorm): LayerNorm((768,), eps=1e-12, elementwise_affine=True)\n",
       "            (dropout): Dropout(p=0.1, inplace=False)\n",
       "          )\n",
       "        )\n",
       "        (2): BertLayer(\n",
       "          (attention): BertAttention(\n",
       "            (self): BertSelfAttention(\n",
       "              (query): Linear(in_features=768, out_features=768, bias=True)\n",
       "              (key): Linear(in_features=768, out_features=768, bias=True)\n",
       "              (value): Linear(in_features=768, out_features=768, bias=True)\n",
       "              (dropout): Dropout(p=0.1, inplace=False)\n",
       "            )\n",
       "            (output): BertSelfOutput(\n",
       "              (dense): Linear(in_features=768, out_features=768, bias=True)\n",
       "              (LayerNorm): LayerNorm((768,), eps=1e-12, elementwise_affine=True)\n",
       "              (dropout): Dropout(p=0.1, inplace=False)\n",
       "            )\n",
       "          )\n",
       "          (intermediate): BertIntermediate(\n",
       "            (dense): Linear(in_features=768, out_features=3072, bias=True)\n",
       "            (intermediate_act_fn): GELUActivation()\n",
       "          )\n",
       "          (output): BertOutput(\n",
       "            (dense): Linear(in_features=3072, out_features=768, bias=True)\n",
       "            (LayerNorm): LayerNorm((768,), eps=1e-12, elementwise_affine=True)\n",
       "            (dropout): Dropout(p=0.1, inplace=False)\n",
       "          )\n",
       "        )\n",
       "        (3): BertLayer(\n",
       "          (attention): BertAttention(\n",
       "            (self): BertSelfAttention(\n",
       "              (query): Linear(in_features=768, out_features=768, bias=True)\n",
       "              (key): Linear(in_features=768, out_features=768, bias=True)\n",
       "              (value): Linear(in_features=768, out_features=768, bias=True)\n",
       "              (dropout): Dropout(p=0.1, inplace=False)\n",
       "            )\n",
       "            (output): BertSelfOutput(\n",
       "              (dense): Linear(in_features=768, out_features=768, bias=True)\n",
       "              (LayerNorm): LayerNorm((768,), eps=1e-12, elementwise_affine=True)\n",
       "              (dropout): Dropout(p=0.1, inplace=False)\n",
       "            )\n",
       "          )\n",
       "          (intermediate): BertIntermediate(\n",
       "            (dense): Linear(in_features=768, out_features=3072, bias=True)\n",
       "            (intermediate_act_fn): GELUActivation()\n",
       "          )\n",
       "          (output): BertOutput(\n",
       "            (dense): Linear(in_features=3072, out_features=768, bias=True)\n",
       "            (LayerNorm): LayerNorm((768,), eps=1e-12, elementwise_affine=True)\n",
       "            (dropout): Dropout(p=0.1, inplace=False)\n",
       "          )\n",
       "        )\n",
       "        (4): BertLayer(\n",
       "          (attention): BertAttention(\n",
       "            (self): BertSelfAttention(\n",
       "              (query): Linear(in_features=768, out_features=768, bias=True)\n",
       "              (key): Linear(in_features=768, out_features=768, bias=True)\n",
       "              (value): Linear(in_features=768, out_features=768, bias=True)\n",
       "              (dropout): Dropout(p=0.1, inplace=False)\n",
       "            )\n",
       "            (output): BertSelfOutput(\n",
       "              (dense): Linear(in_features=768, out_features=768, bias=True)\n",
       "              (LayerNorm): LayerNorm((768,), eps=1e-12, elementwise_affine=True)\n",
       "              (dropout): Dropout(p=0.1, inplace=False)\n",
       "            )\n",
       "          )\n",
       "          (intermediate): BertIntermediate(\n",
       "            (dense): Linear(in_features=768, out_features=3072, bias=True)\n",
       "            (intermediate_act_fn): GELUActivation()\n",
       "          )\n",
       "          (output): BertOutput(\n",
       "            (dense): Linear(in_features=3072, out_features=768, bias=True)\n",
       "            (LayerNorm): LayerNorm((768,), eps=1e-12, elementwise_affine=True)\n",
       "            (dropout): Dropout(p=0.1, inplace=False)\n",
       "          )\n",
       "        )\n",
       "        (5): BertLayer(\n",
       "          (attention): BertAttention(\n",
       "            (self): BertSelfAttention(\n",
       "              (query): Linear(in_features=768, out_features=768, bias=True)\n",
       "              (key): Linear(in_features=768, out_features=768, bias=True)\n",
       "              (value): Linear(in_features=768, out_features=768, bias=True)\n",
       "              (dropout): Dropout(p=0.1, inplace=False)\n",
       "            )\n",
       "            (output): BertSelfOutput(\n",
       "              (dense): Linear(in_features=768, out_features=768, bias=True)\n",
       "              (LayerNorm): LayerNorm((768,), eps=1e-12, elementwise_affine=True)\n",
       "              (dropout): Dropout(p=0.1, inplace=False)\n",
       "            )\n",
       "          )\n",
       "          (intermediate): BertIntermediate(\n",
       "            (dense): Linear(in_features=768, out_features=3072, bias=True)\n",
       "            (intermediate_act_fn): GELUActivation()\n",
       "          )\n",
       "          (output): BertOutput(\n",
       "            (dense): Linear(in_features=3072, out_features=768, bias=True)\n",
       "            (LayerNorm): LayerNorm((768,), eps=1e-12, elementwise_affine=True)\n",
       "            (dropout): Dropout(p=0.1, inplace=False)\n",
       "          )\n",
       "        )\n",
       "        (6): BertLayer(\n",
       "          (attention): BertAttention(\n",
       "            (self): BertSelfAttention(\n",
       "              (query): Linear(in_features=768, out_features=768, bias=True)\n",
       "              (key): Linear(in_features=768, out_features=768, bias=True)\n",
       "              (value): Linear(in_features=768, out_features=768, bias=True)\n",
       "              (dropout): Dropout(p=0.1, inplace=False)\n",
       "            )\n",
       "            (output): BertSelfOutput(\n",
       "              (dense): Linear(in_features=768, out_features=768, bias=True)\n",
       "              (LayerNorm): LayerNorm((768,), eps=1e-12, elementwise_affine=True)\n",
       "              (dropout): Dropout(p=0.1, inplace=False)\n",
       "            )\n",
       "          )\n",
       "          (intermediate): BertIntermediate(\n",
       "            (dense): Linear(in_features=768, out_features=3072, bias=True)\n",
       "            (intermediate_act_fn): GELUActivation()\n",
       "          )\n",
       "          (output): BertOutput(\n",
       "            (dense): Linear(in_features=3072, out_features=768, bias=True)\n",
       "            (LayerNorm): LayerNorm((768,), eps=1e-12, elementwise_affine=True)\n",
       "            (dropout): Dropout(p=0.1, inplace=False)\n",
       "          )\n",
       "        )\n",
       "        (7): BertLayer(\n",
       "          (attention): BertAttention(\n",
       "            (self): BertSelfAttention(\n",
       "              (query): Linear(in_features=768, out_features=768, bias=True)\n",
       "              (key): Linear(in_features=768, out_features=768, bias=True)\n",
       "              (value): Linear(in_features=768, out_features=768, bias=True)\n",
       "              (dropout): Dropout(p=0.1, inplace=False)\n",
       "            )\n",
       "            (output): BertSelfOutput(\n",
       "              (dense): Linear(in_features=768, out_features=768, bias=True)\n",
       "              (LayerNorm): LayerNorm((768,), eps=1e-12, elementwise_affine=True)\n",
       "              (dropout): Dropout(p=0.1, inplace=False)\n",
       "            )\n",
       "          )\n",
       "          (intermediate): BertIntermediate(\n",
       "            (dense): Linear(in_features=768, out_features=3072, bias=True)\n",
       "            (intermediate_act_fn): GELUActivation()\n",
       "          )\n",
       "          (output): BertOutput(\n",
       "            (dense): Linear(in_features=3072, out_features=768, bias=True)\n",
       "            (LayerNorm): LayerNorm((768,), eps=1e-12, elementwise_affine=True)\n",
       "            (dropout): Dropout(p=0.1, inplace=False)\n",
       "          )\n",
       "        )\n",
       "        (8): BertLayer(\n",
       "          (attention): BertAttention(\n",
       "            (self): BertSelfAttention(\n",
       "              (query): Linear(in_features=768, out_features=768, bias=True)\n",
       "              (key): Linear(in_features=768, out_features=768, bias=True)\n",
       "              (value): Linear(in_features=768, out_features=768, bias=True)\n",
       "              (dropout): Dropout(p=0.1, inplace=False)\n",
       "            )\n",
       "            (output): BertSelfOutput(\n",
       "              (dense): Linear(in_features=768, out_features=768, bias=True)\n",
       "              (LayerNorm): LayerNorm((768,), eps=1e-12, elementwise_affine=True)\n",
       "              (dropout): Dropout(p=0.1, inplace=False)\n",
       "            )\n",
       "          )\n",
       "          (intermediate): BertIntermediate(\n",
       "            (dense): Linear(in_features=768, out_features=3072, bias=True)\n",
       "            (intermediate_act_fn): GELUActivation()\n",
       "          )\n",
       "          (output): BertOutput(\n",
       "            (dense): Linear(in_features=3072, out_features=768, bias=True)\n",
       "            (LayerNorm): LayerNorm((768,), eps=1e-12, elementwise_affine=True)\n",
       "            (dropout): Dropout(p=0.1, inplace=False)\n",
       "          )\n",
       "        )\n",
       "        (9): BertLayer(\n",
       "          (attention): BertAttention(\n",
       "            (self): BertSelfAttention(\n",
       "              (query): Linear(in_features=768, out_features=768, bias=True)\n",
       "              (key): Linear(in_features=768, out_features=768, bias=True)\n",
       "              (value): Linear(in_features=768, out_features=768, bias=True)\n",
       "              (dropout): Dropout(p=0.1, inplace=False)\n",
       "            )\n",
       "            (output): BertSelfOutput(\n",
       "              (dense): Linear(in_features=768, out_features=768, bias=True)\n",
       "              (LayerNorm): LayerNorm((768,), eps=1e-12, elementwise_affine=True)\n",
       "              (dropout): Dropout(p=0.1, inplace=False)\n",
       "            )\n",
       "          )\n",
       "          (intermediate): BertIntermediate(\n",
       "            (dense): Linear(in_features=768, out_features=3072, bias=True)\n",
       "            (intermediate_act_fn): GELUActivation()\n",
       "          )\n",
       "          (output): BertOutput(\n",
       "            (dense): Linear(in_features=3072, out_features=768, bias=True)\n",
       "            (LayerNorm): LayerNorm((768,), eps=1e-12, elementwise_affine=True)\n",
       "            (dropout): Dropout(p=0.1, inplace=False)\n",
       "          )\n",
       "        )\n",
       "        (10): BertLayer(\n",
       "          (attention): BertAttention(\n",
       "            (self): BertSelfAttention(\n",
       "              (query): Linear(in_features=768, out_features=768, bias=True)\n",
       "              (key): Linear(in_features=768, out_features=768, bias=True)\n",
       "              (value): Linear(in_features=768, out_features=768, bias=True)\n",
       "              (dropout): Dropout(p=0.1, inplace=False)\n",
       "            )\n",
       "            (output): BertSelfOutput(\n",
       "              (dense): Linear(in_features=768, out_features=768, bias=True)\n",
       "              (LayerNorm): LayerNorm((768,), eps=1e-12, elementwise_affine=True)\n",
       "              (dropout): Dropout(p=0.1, inplace=False)\n",
       "            )\n",
       "          )\n",
       "          (intermediate): BertIntermediate(\n",
       "            (dense): Linear(in_features=768, out_features=3072, bias=True)\n",
       "            (intermediate_act_fn): GELUActivation()\n",
       "          )\n",
       "          (output): BertOutput(\n",
       "            (dense): Linear(in_features=3072, out_features=768, bias=True)\n",
       "            (LayerNorm): LayerNorm((768,), eps=1e-12, elementwise_affine=True)\n",
       "            (dropout): Dropout(p=0.1, inplace=False)\n",
       "          )\n",
       "        )\n",
       "        (11): BertLayer(\n",
       "          (attention): BertAttention(\n",
       "            (self): BertSelfAttention(\n",
       "              (query): Linear(in_features=768, out_features=768, bias=True)\n",
       "              (key): Linear(in_features=768, out_features=768, bias=True)\n",
       "              (value): Linear(in_features=768, out_features=768, bias=True)\n",
       "              (dropout): Dropout(p=0.1, inplace=False)\n",
       "            )\n",
       "            (output): BertSelfOutput(\n",
       "              (dense): Linear(in_features=768, out_features=768, bias=True)\n",
       "              (LayerNorm): LayerNorm((768,), eps=1e-12, elementwise_affine=True)\n",
       "              (dropout): Dropout(p=0.1, inplace=False)\n",
       "            )\n",
       "          )\n",
       "          (intermediate): BertIntermediate(\n",
       "            (dense): Linear(in_features=768, out_features=3072, bias=True)\n",
       "            (intermediate_act_fn): GELUActivation()\n",
       "          )\n",
       "          (output): BertOutput(\n",
       "            (dense): Linear(in_features=3072, out_features=768, bias=True)\n",
       "            (LayerNorm): LayerNorm((768,), eps=1e-12, elementwise_affine=True)\n",
       "            (dropout): Dropout(p=0.1, inplace=False)\n",
       "          )\n",
       "        )\n",
       "      )\n",
       "    )\n",
       "    (pooler): BertPooler(\n",
       "      (dense): Linear(in_features=768, out_features=768, bias=True)\n",
       "      (activation): Tanh()\n",
       "    )\n",
       "  )\n",
       "  (dropout): Dropout(p=0.1, inplace=False)\n",
       "  (classifier): Linear(in_features=768, out_features=6, bias=True)\n",
       ")"
      ]
     },
     "execution_count": 7,
     "metadata": {},
     "output_type": "execute_result"
    }
   ],
   "source": [
    "device = torch.device('cuda' if torch.cuda.is_available() else 'cpu')\n",
    "model = BertForSequenceClassification.from_pretrained('dbmdz/bert-base-german-cased', num_labels=6, output_attentions=False, output_hidden_states=False)\n",
    "# model = DistilBertForSequenceClassification.from_pretrained('distilbert-base-german-cased', num_labels=6, output_attentions=False, output_hidden_states=False)\n",
    "model.to(device)"
   ]
  },
  {
   "cell_type": "code",
   "execution_count": 8,
   "id": "ba23137b",
   "metadata": {},
   "outputs": [],
   "source": [
    "batch_size = 3\n",
    "\n",
    "dataloader_train = DataLoader(dataset_train, sampler=RandomSampler(dataset_train), batch_size=batch_size)\n",
    "dataloader_validation = DataLoader(dataset_val, sampler=SequentialSampler(dataset_val), batch_size=batch_size)"
   ]
  },
  {
   "cell_type": "code",
   "execution_count": 9,
   "id": "74a8ef03",
   "metadata": {},
   "outputs": [
    {
     "name": "stderr",
     "output_type": "stream",
     "text": [
      "/opt/conda/lib/python3.10/site-packages/transformers/optimization.py:391: FutureWarning: This implementation of AdamW is deprecated and will be removed in a future version. Use the PyTorch implementation torch.optim.AdamW instead, or set `no_deprecation_warning=True` to disable this warning\n",
      "  warnings.warn(\n"
     ]
    }
   ],
   "source": [
    "optimizer = AdamW(model.parameters(), lr=1e-5, eps=1e-8)\n",
    "epochs = 6\n",
    "scheduler = get_linear_schedule_with_warmup(optimizer, num_warmup_steps=0, num_training_steps=len(dataloader_train)*epochs)"
   ]
  },
  {
   "cell_type": "markdown",
   "id": "403a67f9-47a1-41e1-9201-16702baf45e6",
   "metadata": {},
   "source": [
    "### Evaluierungsfunktionen definieren"
   ]
  },
  {
   "cell_type": "code",
   "execution_count": 10,
   "id": "5546cd71",
   "metadata": {},
   "outputs": [],
   "source": [
    "label_dict = {'Bug': 0, 'Wunsch': 1, 'Support': 2, 'IT': 3, 'Lizenz': 4, 'Sonstiges': 5}"
   ]
  },
  {
   "cell_type": "code",
   "execution_count": 11,
   "id": "ebab1f53",
   "metadata": {},
   "outputs": [],
   "source": [
    "def f1_score_func(preds, labels):\n",
    "    preds_flat = np.argmax(preds, axis=1).flatten()\n",
    "    labels_flat = labels.flatten()\n",
    "    return f1_score(labels_flat, preds_flat, average='weighted')\n",
    "\n",
    "def accuracy_per_class(preds, labels):\n",
    "    label_dict_inverse = {v: k for k, v in label_dict.items()}\n",
    "    \n",
    "    preds_flat = np.argmax(preds, axis=1).flatten()\n",
    "    labels_flat = labels.flatten()\n",
    "\n",
    "    for label in np.unique(labels_flat):\n",
    "        y_preds = preds_flat[labels_flat==label]\n",
    "        y_true = labels_flat[labels_flat==label]\n",
    "        print(f'Class: {label_dict_inverse[label]}')\n",
    "        print(f'Accuracy: {len(y_preds[y_preds==label])}/{len(y_true)}\\n')"
   ]
  },
  {
   "cell_type": "code",
   "execution_count": 12,
   "id": "2d6359a9",
   "metadata": {},
   "outputs": [],
   "source": [
    "seed_val = 24\n",
    "random.seed(seed_val)\n",
    "np.random.seed(seed_val)\n",
    "torch.manual_seed(seed_val)\n",
    "torch.cuda.manual_seed_all(seed_val)"
   ]
  },
  {
   "cell_type": "code",
   "execution_count": 13,
   "id": "15f96750",
   "metadata": {},
   "outputs": [],
   "source": [
    "def evaluate(dataloader_val):\n",
    "\n",
    "    model.eval()\n",
    "    \n",
    "    loss_val_total = 0\n",
    "    correct_predictions = 0\n",
    "    predictions, true_vals = [], []\n",
    "    \n",
    "    for batch in dataloader_val:\n",
    "        \n",
    "        batch = tuple(b.to(device) for b in batch)\n",
    "        \n",
    "        inputs = {'input_ids':      batch[0],\n",
    "                  'attention_mask': batch[1],\n",
    "                  'labels':         batch[2],\n",
    "                 }\n",
    "\n",
    "        with torch.no_grad():        \n",
    "            outputs = model(**inputs)\n",
    "            \n",
    "        loss = outputs[0]\n",
    "        logits = outputs[1]\n",
    "        loss_val_total += loss.item()\n",
    "\n",
    "        logits = logits.detach().cpu().numpy()\n",
    "        label_ids = inputs['labels'].cpu().numpy()\n",
    "        predictions.append(logits)\n",
    "        true_vals.append(label_ids)\n",
    "        \n",
    "        preds = np.argmax(logits, axis=1)\n",
    "        correct_predictions += np.sum(preds == label_ids)\n",
    "    \n",
    "    loss_val_avg = loss_val_total/len(dataloader_val)\n",
    "    validation_accuracy = correct_predictions/len(dataloader_val.dataset)\n",
    "    \n",
    "    predictions = np.concatenate(predictions, axis=0)\n",
    "    true_vals = np.concatenate(true_vals, axis=0)\n",
    "            \n",
    "    return loss_val_avg, predictions, true_vals, validation_accuracy"
   ]
  },
  {
   "cell_type": "code",
   "execution_count": 14,
   "id": "486130c8-0128-4c69-8a78-f1556469145b",
   "metadata": {},
   "outputs": [],
   "source": [
    "def evaluate_classification_report(dataloader_val):\n",
    "\n",
    "    model.eval()\n",
    "    \n",
    "    loss_val_total = 0\n",
    "    predictions, true_vals = [], []\n",
    "    \n",
    "    for batch in dataloader_val:\n",
    "        \n",
    "        batch = tuple(b.to(device) for b in batch)\n",
    "        \n",
    "        inputs = {'input_ids':      batch[0],\n",
    "                  'attention_mask': batch[1],\n",
    "                  'labels':         batch[2],\n",
    "                 }\n",
    "\n",
    "        with torch.no_grad():        \n",
    "            outputs = model(**inputs)\n",
    "            \n",
    "        loss = outputs[0]\n",
    "        logits = outputs[1]\n",
    "        loss_val_total += loss.item()\n",
    "\n",
    "        logits = logits.detach().cpu().numpy()\n",
    "        label_ids = inputs['labels'].cpu().numpy()\n",
    "        predictions.extend(np.argmax(logits, axis=1))\n",
    "        true_vals.extend(label_ids)\n",
    "    \n",
    "    loss_val_avg = loss_val_total/len(dataloader_val) \n",
    "    classification_report_output = classification_report(true_vals, predictions, output_dict=True)\n",
    "    confusion_matrix_output = confusion_matrix(true_vals, predictions)\n",
    "    balanced_accuracy = balanced_accuracy_score(true_vals, predictions)\n",
    "            \n",
    "    return loss_val_avg, classification_report_output, confusion_matrix_output, balanced_accuracy"
   ]
  },
  {
   "cell_type": "markdown",
   "id": "b2088695-9e11-4bc9-b2b1-8fd7e65eed93",
   "metadata": {},
   "source": [
    "### Verlustfunktion anpassen"
   ]
  },
  {
   "cell_type": "code",
   "execution_count": 15,
   "id": "5c202ad9-304d-424f-82d9-2ebc135c6027",
   "metadata": {},
   "outputs": [],
   "source": [
    "labels_train_numpy = labels_train.cpu().numpy()\n",
    "class_weights = compute_class_weight(class_weight='balanced', classes=np.unique(labels_train_numpy), y=labels_train_numpy)\n",
    "weights = torch.tensor(class_weights, dtype=torch.float32).to(device)\n",
    "\n",
    "loss_fn = nn.CrossEntropyLoss(weight=weights)"
   ]
  },
  {
   "cell_type": "markdown",
   "id": "c7ccf339-c746-400b-b2fa-f6ec1681a84e",
   "metadata": {},
   "source": [
    "### Trainingsschleife"
   ]
  },
  {
   "cell_type": "code",
   "execution_count": 16,
   "id": "6126d7bb",
   "metadata": {},
   "outputs": [
    {
     "data": {
      "application/vnd.jupyter.widget-view+json": {
       "model_id": "7159f2f057d44913b154d603c8e1d945",
       "version_major": 2,
       "version_minor": 0
      },
      "text/plain": [
       "  0%|          | 0/6 [00:00<?, ?it/s]"
      ]
     },
     "metadata": {},
     "output_type": "display_data"
    },
    {
     "data": {
      "application/vnd.jupyter.widget-view+json": {
       "model_id": "",
       "version_major": 2,
       "version_minor": 0
      },
      "text/plain": [
       "Epoch 1:   0%|          | 0/12313 [00:00<?, ?it/s]"
      ]
     },
     "metadata": {},
     "output_type": "display_data"
    },
    {
     "name": "stdout",
     "output_type": "stream",
     "text": [
      "\n",
      "Epoch 1\n",
      "Training loss: 0.8967348664688205\n",
      "Validation loss: 0.7988242025518091\n",
      "F1 Score (Weighted): 0.7567225992470825\n"
     ]
    },
    {
     "data": {
      "application/vnd.jupyter.widget-view+json": {
       "model_id": "",
       "version_major": 2,
       "version_minor": 0
      },
      "text/plain": [
       "Epoch 2:   0%|          | 0/12313 [00:00<?, ?it/s]"
      ]
     },
     "metadata": {},
     "output_type": "display_data"
    },
    {
     "name": "stdout",
     "output_type": "stream",
     "text": [
      "\n",
      "Epoch 2\n",
      "Training loss: 0.7663590102912036\n",
      "Validation loss: 0.9212734339095058\n",
      "F1 Score (Weighted): 0.7742262115661658\n"
     ]
    },
    {
     "data": {
      "application/vnd.jupyter.widget-view+json": {
       "model_id": "",
       "version_major": 2,
       "version_minor": 0
      },
      "text/plain": [
       "Epoch 3:   0%|          | 0/12313 [00:00<?, ?it/s]"
      ]
     },
     "metadata": {},
     "output_type": "display_data"
    },
    {
     "name": "stdout",
     "output_type": "stream",
     "text": [
      "\n",
      "Epoch 3\n",
      "Training loss: 0.6539091113041042\n",
      "Validation loss: 1.0170176923888812\n",
      "F1 Score (Weighted): 0.778331804564521\n"
     ]
    },
    {
     "data": {
      "application/vnd.jupyter.widget-view+json": {
       "model_id": "",
       "version_major": 2,
       "version_minor": 0
      },
      "text/plain": [
       "Epoch 4:   0%|          | 0/12313 [00:00<?, ?it/s]"
      ]
     },
     "metadata": {},
     "output_type": "display_data"
    },
    {
     "name": "stdout",
     "output_type": "stream",
     "text": [
      "\n",
      "Epoch 4\n",
      "Training loss: 0.514492635396704\n",
      "Validation loss: 1.1886973989258964\n",
      "F1 Score (Weighted): 0.7824567750240381\n"
     ]
    },
    {
     "data": {
      "application/vnd.jupyter.widget-view+json": {
       "model_id": "",
       "version_major": 2,
       "version_minor": 0
      },
      "text/plain": [
       "Epoch 5:   0%|          | 0/12313 [00:00<?, ?it/s]"
      ]
     },
     "metadata": {},
     "output_type": "display_data"
    },
    {
     "name": "stdout",
     "output_type": "stream",
     "text": [
      "\n",
      "Epoch 5\n",
      "Training loss: 0.3883100877966155\n",
      "Validation loss: 1.349926188373572\n",
      "F1 Score (Weighted): 0.7777949102745975\n"
     ]
    },
    {
     "data": {
      "application/vnd.jupyter.widget-view+json": {
       "model_id": "",
       "version_major": 2,
       "version_minor": 0
      },
      "text/plain": [
       "Epoch 6:   0%|          | 0/12313 [00:00<?, ?it/s]"
      ]
     },
     "metadata": {},
     "output_type": "display_data"
    },
    {
     "name": "stdout",
     "output_type": "stream",
     "text": [
      "\n",
      "Epoch 6\n",
      "Training loss: 0.2889148611638058\n",
      "Validation loss: 1.460090504059297\n",
      "F1 Score (Weighted): 0.7742135782535052\n"
     ]
    }
   ],
   "source": [
    "loss_values = []\n",
    "accuracy_values = []\n",
    "training_times = []\n",
    "\n",
    "for epoch in tqdm(range(1, epochs+1)):\n",
    "    \n",
    "    start_time_bert = time.time()\n",
    "    \n",
    "    model.train()\n",
    "    \n",
    "    loss_train_total = 0\n",
    "\n",
    "    progress_bar = tqdm(dataloader_train, desc='Epoch {:1d}'.format(epoch), leave=False, disable=False)\n",
    "    for batch in progress_bar:\n",
    "\n",
    "        model.zero_grad()\n",
    "        \n",
    "        batch = tuple(b.to(device) for b in batch)\n",
    "        \n",
    "        inputs = {'input_ids':      batch[0],\n",
    "                  'attention_mask': batch[1],\n",
    "                  'labels':         batch[2],\n",
    "                 }       \n",
    "\n",
    "        outputs = model(**inputs)\n",
    "        \n",
    "        loss = loss_fn(outputs[1], inputs['labels']) # mit Anpassung der Gewichte in Verlust-Funktion: \n",
    "        loss_train_total += loss.item()\n",
    "        loss.backward()\n",
    "\n",
    "        torch.nn.utils.clip_grad_norm_(model.parameters(), 1.0)\n",
    "\n",
    "        optimizer.step()\n",
    "        scheduler.step()\n",
    "        \n",
    "        progress_bar.set_postfix({'training_loss': '{:.3f}'.format(loss.item()/len(batch))})\n",
    "         \n",
    "        \n",
    "    torch.save(model.state_dict(), f'finetuned_BERT_epoch_{epoch}.model') # statt torch.save(model.state_dict(), f'data_volume/finetuned_BERT_epoch_{epoch}.model')\n",
    "    # torch.save(model.state_dict(), f'finetuned_DistilBERT_epoch_{epoch}.model')\n",
    "        \n",
    "    tqdm.write(f'\\nEpoch {epoch}')\n",
    "    \n",
    "    loss_train_avg = loss_train_total/len(dataloader_train)            \n",
    "    tqdm.write(f'Training loss: {loss_train_avg}')\n",
    "    \n",
    "    val_loss, predictions, true_vals, val_accuracy = evaluate(dataloader_validation)\n",
    "    val_f1 = f1_score_func(predictions, true_vals)\n",
    "    tqdm.write(f'Validation loss: {val_loss}')\n",
    "    tqdm.write(f'F1 Score (Weighted): {val_f1}')\n",
    "    \n",
    "    loss_values.append(round(val_loss, 3))\n",
    "    accuracy_values.append(round(val_accuracy, 3))\n",
    "    \n",
    "    end_time_bert = time.time()\n",
    "\n",
    "    training_times.append(end_time_bert - start_time_bert)"
   ]
  },
  {
   "cell_type": "markdown",
   "id": "7d21380c-7b7a-4f0c-acfc-199c6f542382",
   "metadata": {},
   "source": [
    "### Val.verlust und Val.genauigkeit im Trainingsprozess beobachten"
   ]
  },
  {
   "cell_type": "code",
   "execution_count": 30,
   "id": "4bb0be8f-d1d8-45e9-96bc-aab6d6f9b4e8",
   "metadata": {},
   "outputs": [
    {
     "data": {
      "image/png": "[encoded data removed]",
      "text/plain": [
       "<Figure size 432x288 with 1 Axes>"
      ]
     },
     "metadata": {
      "needs_background": "light"
     },
     "output_type": "display_data"
    }
   ],
   "source": [
    "fig, ax = plt.subplots()\n",
    "ax.plot(range(1, epochs+1), loss_values, label='Entwicklung Validierungsverlust')\n",
    "ax.set_xlabel('Trainingsepoche', fontweight='bold')\n",
    "ax.set_ylabel('Validierungsverlust', fontweight='bold')\n",
    "ax.legend(loc='lower right')\n",
    "\n",
    "plt.xticks(range(1, epochs+1))\n",
    "\n",
    "for y in ax.yaxis.get_ticklocs():\n",
    "    ax.axhline(y, color='gray', alpha=0.2, linestyle='--')\n",
    "\n",
    "plt.savefig('pictures/bert_val_loss.png', dpi=600)    \n",
    "plt.show()"
   ]
  },
  {
   "cell_type": "code",
   "execution_count": 31,
   "id": "760db189-de89-44a5-8aad-7513f07de16c",
   "metadata": {},
   "outputs": [
    {
     "data": {
      "image/png": "[encoded data removed]",
      "text/plain": [
       "<Figure size 432x288 with 1 Axes>"
      ]
     },
     "metadata": {
      "needs_background": "light"
     },
     "output_type": "display_data"
    }
   ],
   "source": [
    "fig, ax = plt.subplots()\n",
    "ax.plot(range(1, epochs+1), accuracy_values, label='Entwicklung Validierungsgenauigkeit')\n",
    "ax.set_xlabel('Trainingsepoche', fontweight='bold')\n",
    "ax.set_ylabel('Validierungsgenauigkeit', fontweight='bold')\n",
    "ax.legend(loc='lower right')\n",
    "\n",
    "plt.yticks(ax.get_yticks(), [f'{val:.3f}' for val in ax.get_yticks()])\n",
    "plt.xticks(range(1, epochs+1))\n",
    "\n",
    "for y in ax.yaxis.get_ticklocs():\n",
    "    ax.axhline(y, color='gray', alpha=0.2, linestyle='--')\n",
    "\n",
    "plt.savefig('pictures/bert_val_accuracy.png', dpi=600)\n",
    "plt.show()"
   ]
  },
  {
   "cell_type": "markdown",
   "id": "feee4a69-f689-4f07-b9ec-001d72ff1218",
   "metadata": {},
   "source": [
    "### Bestes Modell laden und evaluieren"
   ]
  },
  {
   "cell_type": "code",
   "execution_count": 19,
   "id": "899747a5-5d94-429c-aa4e-20f1980b9024",
   "metadata": {},
   "outputs": [
    {
     "name": "stderr",
     "output_type": "stream",
     "text": [
      "Some weights of the model checkpoint at dbmdz/bert-base-german-uncased were not used when initializing BertForSequenceClassification: ['cls.seq_relationship.bias', 'cls.predictions.decoder.weight', 'cls.predictions.transform.dense.weight', 'cls.predictions.transform.LayerNorm.bias', 'cls.predictions.transform.dense.bias', 'cls.predictions.transform.LayerNorm.weight', 'cls.seq_relationship.weight', 'cls.predictions.bias']\n",
      "- This IS expected if you are initializing BertForSequenceClassification from the checkpoint of a model trained on another task or with another architecture (e.g. initializing a BertForSequenceClassification model from a BertForPreTraining model).\n",
      "- This IS NOT expected if you are initializing BertForSequenceClassification from the checkpoint of a model that you expect to be exactly identical (initializing a BertForSequenceClassification model from a BertForSequenceClassification model).\n",
      "Some weights of BertForSequenceClassification were not initialized from the model checkpoint at dbmdz/bert-base-german-uncased and are newly initialized: ['classifier.weight', 'classifier.bias']\n",
      "You should probably TRAIN this model on a down-stream task to be able to use it for predictions and inference.\n"
     ]
    },
    {
     "name": "stdout",
     "output_type": "stream",
     "text": [
      "Class: Bug\n",
      "Accuracy: 2096/2455\n",
      "\n",
      "Class: Wunsch\n",
      "Accuracy: 1221/1634\n",
      "\n",
      "Class: Support\n",
      "Accuracy: 572/1012\n",
      "\n",
      "Class: IT\n",
      "Accuracy: 635/679\n",
      "\n",
      "Class: Lizenz\n",
      "Accuracy: 196/288\n",
      "\n",
      "Class: Sonstiges\n",
      "Accuracy: 395/451\n",
      "\n"
     ]
    }
   ],
   "source": [
    "model = BertForSequenceClassification.from_pretrained('dbmdz/bert-base-german-uncased', num_labels=6, output_attentions=False, output_hidden_states=False)\n",
    "# model = DistilBertForSequenceClassification.from_pretrained('distilbert-base-german-cased', num_labels=6, output_attentions=False, output_hidden_states=False)\n",
    "model.to(device)\n",
    "\n",
    "model.load_state_dict(torch.load('finetuned_BERT_epoch_4.model', map_location=torch.device('cuda')))\n",
    "# model.load_state_dict(torch.load('finetuned_DistilBERT_epoch_4.model', map_location=torch.device('cuda')))\n",
    "\n",
    "_, predictions, true_vals, val_accuracy = evaluate(dataloader_validation)\n",
    "accuracy_per_class(predictions, true_vals)"
   ]
  },
  {
   "cell_type": "code",
   "execution_count": 20,
   "id": "d15056c9-d58c-408b-afe3-71a29ae7938f",
   "metadata": {},
   "outputs": [
    {
     "name": "stderr",
     "output_type": "stream",
     "text": [
      "Some weights of the model checkpoint at dbmdz/bert-base-german-uncased were not used when initializing BertForSequenceClassification: ['cls.seq_relationship.bias', 'cls.predictions.decoder.weight', 'cls.predictions.transform.dense.weight', 'cls.predictions.transform.LayerNorm.bias', 'cls.predictions.transform.dense.bias', 'cls.predictions.transform.LayerNorm.weight', 'cls.seq_relationship.weight', 'cls.predictions.bias']\n",
      "- This IS expected if you are initializing BertForSequenceClassification from the checkpoint of a model trained on another task or with another architecture (e.g. initializing a BertForSequenceClassification model from a BertForPreTraining model).\n",
      "- This IS NOT expected if you are initializing BertForSequenceClassification from the checkpoint of a model that you expect to be exactly identical (initializing a BertForSequenceClassification model from a BertForSequenceClassification model).\n",
      "Some weights of BertForSequenceClassification were not initialized from the model checkpoint at dbmdz/bert-base-german-uncased and are newly initialized: ['classifier.weight', 'classifier.bias']\n",
      "You should probably TRAIN this model on a down-stream task to be able to use it for predictions and inference.\n"
     ]
    }
   ],
   "source": [
    "model = BertForSequenceClassification.from_pretrained('dbmdz/bert-base-german-uncased', num_labels=6, output_attentions=False, output_hidden_states=False)\n",
    "# model = DistilBertForSequenceClassification.from_pretrained('distilbert-base-german-cased', num_labels=6, output_attentions=False, output_hidden_states=False)\n",
    "model.to(device)\n",
    "\n",
    "model.load_state_dict(torch.load('finetuned_BERT_epoch_4.model', map_location=torch.device('cuda')))\n",
    "# model.load_state_dict(torch.load('finetuned_DistilBERT_epoch_4.model', map_location=torch.device('cuda')))\n",
    "\n",
    "loss_val_avg, classification_report_output, confusion_matrix_output, balanced_accuracy = evaluate_classification_report(dataloader_validation)"
   ]
  },
  {
   "cell_type": "code",
   "execution_count": 21,
   "id": "45839764-157b-4994-b1da-edb6a889b46f",
   "metadata": {},
   "outputs": [],
   "source": [
    "training_time_bert = 0\n",
    "for i in range(3):\n",
    "    training_time_bert += training_times[i]"
   ]
  },
  {
   "cell_type": "code",
   "execution_count": 32,
   "id": "29153df4-999c-4427-b517-0cb529c1501b",
   "metadata": {},
   "outputs": [
    {
     "data": {
      "image/png": "[encoded data removed]",
      "text/plain": [
       "<Figure size 576x576 with 2 Axes>"
      ]
     },
     "metadata": {
      "needs_background": "light"
     },
     "output_type": "display_data"
    }
   ],
   "source": [
    "classes = ['Bug', 'Wunsch', 'Support', 'IT', 'Lizenz', 'Sonstiges']\n",
    "\n",
    "fig, ax = plt.subplots(figsize=(8, 8))\n",
    "im = ax.imshow(confusion_matrix_output, cmap=plt.cm.get_cmap('Blues'))\n",
    "\n",
    "ax.set_xticks(np.arange(len(classes)))\n",
    "ax.set_yticks(np.arange(len(classes)))\n",
    "ax.set_xticklabels(classes, fontsize=12, fontweight='bold')\n",
    "ax.set_yticklabels(classes, fontsize=12, fontweight='bold')\n",
    "\n",
    "for i in range(len(classes)):\n",
    "    for j in range(len(classes)):\n",
    "        ax.text(j, i, confusion_matrix_output[i, j], ha='center', va='center', color='#1f77b4', fontsize=12)\n",
    "\n",
    "\n",
    "plt.xlabel('Vorhersage', fontsize=14, fontweight='bold')\n",
    "plt.ylabel('Tatsächlicher Wert', fontsize=14, fontweight='bold')\n",
    "\n",
    "legend_bar = ax.figure.colorbar(im, ax=ax)\n",
    "legend_bar.ax.set_ylabel(\"Anzahl\", rotation=-90, va=\"bottom\", fontsize=14, fontweight='bold')\n",
    "\n",
    "plt.savefig('pictures/bert_conf_matrix.png', dpi=600)\n",
    "plt.show()"
   ]
  },
  {
   "cell_type": "markdown",
   "id": "ce7b8a2b-d772-4d6d-9af3-55b841c8c6dd",
   "metadata": {},
   "source": [
    "### Evaluierungswerte des BERT-Modells zwischenspeichern"
   ]
  },
  {
   "cell_type": "code",
   "execution_count": 29,
   "id": "347d215e-b1a4-4a97-8e59-c7332e32b1d3",
   "metadata": {},
   "outputs": [],
   "source": [
    "bert_values = {\n",
    "    \"training_time_bert\": training_time_bert,\n",
    "    \"accuracy_bert\": classification_report_output['accuracy'],\n",
    "    \"balanced_accuracy_bert\": balanced_accuracy,\n",
    "    \"f1_score_macro_bert\": classification_report_output['macro avg']['f1-score'],\n",
    "    \"f1_score_weighted_bert\": classification_report_output['weighted avg']['f1-score']\n",
    "}\n",
    "\n",
    "json_bert = json.dumps(bert_values)\n",
    "    \n",
    "with open('value_cache_bert', 'w') as f:\n",
    "    f.write(json_bert)"
   ]
  }
 ],
 "metadata": {
  "kernelspec": {
   "display_name": "Python 3 (ipykernel)",
   "language": "python",
   "name": "python3"
  },
  "language_info": {
   "codemirror_mode": {
    "name": "ipython",
    "version": 3
   },
   "file_extension": ".py",
   "mimetype": "text/x-python",
   "name": "python",
   "nbconvert_exporter": "python",
   "pygments_lexer": "ipython3",
   "version": "3.10.5"
  }
 },
 "nbformat": 4,
 "nbformat_minor": 5
}
